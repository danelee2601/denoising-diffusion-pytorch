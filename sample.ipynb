{
 "cells": [
  {
   "cell_type": "code",
   "execution_count": 3,
   "metadata": {
    "collapsed": true,
    "pycharm": {
     "name": "#%%\n"
    }
   },
   "outputs": [],
   "source": [
    "import os\n",
    "from argparse import ArgumentParser\n",
    "\n",
    "import numpy as np\n",
    "import matplotlib.pyplot as plt\n",
    "import wandb\n",
    "import torch\n",
    "from denoising_diffusion_pytorch import Unet, GaussianDiffusion, Trainer\n",
    "from encoder_decoders.vq_vae_encdec import VQVAEEncoder, VQVAEDecoder\n",
    "from vector_quantization import VectorQuantize\n",
    "from utils import load_yaml_param_settings, get_root_dir, freeze\n",
    "from einops import rearrange\n",
    "\n",
    "from stage2 import load_pretrained_encoder_decoder_vq"
   ]
  },
  {
   "cell_type": "code",
   "execution_count": 4,
   "outputs": [],
   "source": [
    "def load_args():\n",
    "    parser = ArgumentParser()\n",
    "    parser.add_argument('--config', type=str, help=\"Path to the config data  file.\",\n",
    "                        default=get_root_dir().joinpath('configs', 'config.yaml'))\n",
    "    return parser.parse_args([])"
   ],
   "metadata": {
    "collapsed": false,
    "pycharm": {
     "name": "#%%\n"
    }
   }
  },
  {
   "cell_type": "code",
   "execution_count": 8,
   "outputs": [
    {
     "name": "stdout",
     "output_type": "stream",
     "text": [
      "Data loading... 0%\n",
      "Data loading... 2%\n",
      "Data loading... 4%\n",
      "Data loading... 6%\n"
     ]
    },
    {
     "data": {
      "text/plain": "",
      "text/html": "<pre style=\"white-space:pre;overflow-x:auto;line-height:normal;font-family:Menlo,'DejaVu Sans Mono',consolas,'Courier New',monospace\"></pre>\n"
     },
     "metadata": {},
     "output_type": "display_data"
    },
    {
     "name": "stderr",
     "output_type": "stream",
     "text": [
      "\n",
      "KeyboardInterrupt\n",
      "\n"
     ]
    }
   ],
   "source": [
    "# Load the trained LDM\n",
    "\n",
    "# load config\n",
    "args = load_args()\n",
    "config = load_yaml_param_settings(args.config)\n",
    "\n",
    "# load the pretrained encoder, decoder, and vq\n",
    "encoder, decoder, vq_model = load_pretrained_encoder_decoder_vq(config, 'saved_models', freeze_models=True)\n",
    "encoder, decoder, vq_model = encoder.cuda(), decoder.cuda(), vq_model.cuda()\n",
    "\n",
    "# model\n",
    "model = Unet(\n",
    "        in_channels=config['VQ-VAE']['codebook_dim'],\n",
    "        dim=64,\n",
    "        dim_mults=(1, 2, 4, 8),\n",
    "        self_condition=config['diffusion']['unet']['self_condition'],\n",
    ").cuda()\n",
    "\n",
    "diffusion = GaussianDiffusion(\n",
    "    model,\n",
    "    in_size=encoder.H_prime[0].item(),  # width or height of z\n",
    "    timesteps=1000,  # number of steps\n",
    "    sampling_timesteps=1000,\n",
    "    # number of sampling timesteps (using ddim for faster inference [see citation for ddim paper])\n",
    "    loss_type='l1',  # L1 or L2\n",
    "    auto_normalize=False,\n",
    ").cuda()\n",
    "\n",
    "# train\n",
    "trainer = Trainer(\n",
    "    diffusion,\n",
    "    config,\n",
    "    encoder,\n",
    "    decoder,\n",
    "    vq_model,\n",
    "    train_batch_size=config['dataset']['batch_sizes']['stage2'],\n",
    "    train_lr=8e-5,\n",
    "    train_num_steps=700000,  # total training steps\n",
    "    gradient_accumulate_every=2,  # gradient accumulation steps\n",
    "    ema_decay=0.995,  # exponential moving average decay\n",
    "    amp=False,  # turn on mixed precision\n",
    "    fp16=False,\n",
    "    save_and_sample_every=1000, #1000,\n",
    "    num_samples=9,\n",
    "    augment_horizontal_flip=False\n",
    ")"
   ],
   "metadata": {
    "collapsed": false,
    "pycharm": {
     "name": "#%%\n"
    }
   }
  },
  {
   "cell_type": "code",
   "execution_count": 7,
   "outputs": [
    {
     "data": {
      "text/plain": "\u001B[31m╭─\u001B[0m\u001B[31m──────────────────────────────\u001B[0m\u001B[31m \u001B[0m\u001B[1;31mTraceback \u001B[0m\u001B[1;2;31m(most recent call last)\u001B[0m\u001B[31m \u001B[0m\u001B[31m───────────────────────────────\u001B[0m\u001B[31m─╮\u001B[0m\n\u001B[31m│\u001B[0m in \u001B[92m<module>\u001B[0m                                                                                      \u001B[31m│\u001B[0m\n\u001B[31m│\u001B[0m                                                                                                  \u001B[31m│\u001B[0m\n\u001B[31m│\u001B[0m   \u001B[2m1 \u001B[0m\u001B[2m# load the pretrained LDM\u001B[0m                                                                    \u001B[31m│\u001B[0m\n\u001B[31m│\u001B[0m \u001B[31m❱ \u001B[0m2 trainer.load(milestone=\u001B[94m67\u001B[0m)                                                                   \u001B[31m│\u001B[0m\n\u001B[31m│\u001B[0m   \u001B[2m3 \u001B[0m                                                                                             \u001B[31m│\u001B[0m\n\u001B[31m│\u001B[0m                                                                                                  \u001B[31m│\u001B[0m\n\u001B[31m│\u001B[0m \u001B[33mC:\\projects\\denoising-diffusion-pytorch\\denoising_diffusion_pytorch\\denoising_diffusion_pytorch.\u001B[0m \u001B[31m│\u001B[0m\n\u001B[31m│\u001B[0m \u001B[33mpy\u001B[0m:\u001B[94m918\u001B[0m in \u001B[92mload\u001B[0m                                                                                   \u001B[31m│\u001B[0m\n\u001B[31m│\u001B[0m                                                                                                  \u001B[31m│\u001B[0m\n\u001B[31m│\u001B[0m   \u001B[2m915 \u001B[0m\u001B[2m│   │   \u001B[0mdata = torch.load(\u001B[96mstr\u001B[0m(\u001B[96mself\u001B[0m.results_folder / \u001B[33mf\u001B[0m\u001B[33m'\u001B[0m\u001B[33mmodel-\u001B[0m\u001B[33m{\u001B[0mmilestone\u001B[33m}\u001B[0m\u001B[33m.pt\u001B[0m\u001B[33m'\u001B[0m), map_locati   \u001B[31m│\u001B[0m\n\u001B[31m│\u001B[0m   \u001B[2m916 \u001B[0m\u001B[2m│   │   \u001B[0m                                                                                   \u001B[31m│\u001B[0m\n\u001B[31m│\u001B[0m   \u001B[2m917 \u001B[0m\u001B[2m│   │   \u001B[0mmodel = \u001B[96mself\u001B[0m.accelerator.unwrap_model(\u001B[96mself\u001B[0m.model)                                  \u001B[31m│\u001B[0m\n\u001B[31m│\u001B[0m \u001B[31m❱ \u001B[0m918 \u001B[2m│   │   \u001B[0mmodel.load_state_dict(data[\u001B[33m'\u001B[0m\u001B[33mmodel\u001B[0m\u001B[33m'\u001B[0m])                                               \u001B[31m│\u001B[0m\n\u001B[31m│\u001B[0m   \u001B[2m919 \u001B[0m\u001B[2m│   │   \u001B[0m                                                                                   \u001B[31m│\u001B[0m\n\u001B[31m│\u001B[0m   \u001B[2m920 \u001B[0m\u001B[2m│   │   \u001B[0m\u001B[96mself\u001B[0m.step = data[\u001B[33m'\u001B[0m\u001B[33mstep\u001B[0m\u001B[33m'\u001B[0m]                                                           \u001B[31m│\u001B[0m\n\u001B[31m│\u001B[0m   \u001B[2m921 \u001B[0m\u001B[2m│   │   \u001B[0m\u001B[96mself\u001B[0m.opt.load_state_dict(data[\u001B[33m'\u001B[0m\u001B[33mopt\u001B[0m\u001B[33m'\u001B[0m])                                              \u001B[31m│\u001B[0m\n\u001B[31m│\u001B[0m                                                                                                  \u001B[31m│\u001B[0m\n\u001B[31m│\u001B[0m \u001B[33mC:\\Users\\dslee\\anaconda3\\envs\\geo_diffusion\\lib\\site-packages\\torch\\nn\\modules\\module.py\u001B[0m:\u001B[94m1672\u001B[0m in \u001B[31m│\u001B[0m\n\u001B[31m│\u001B[0m \u001B[92mload_state_dict\u001B[0m                                                                                  \u001B[31m│\u001B[0m\n\u001B[31m│\u001B[0m                                                                                                  \u001B[31m│\u001B[0m\n\u001B[31m│\u001B[0m   \u001B[2m1669 \u001B[0m\u001B[2m│   │   \u001B[0m                                                                                  \u001B[31m│\u001B[0m\n\u001B[31m│\u001B[0m   \u001B[2m1670 \u001B[0m\u001B[2m│   │   \u001B[0m\u001B[94mif\u001B[0m \u001B[96mlen\u001B[0m(error_msgs) > \u001B[94m0\u001B[0m:                                                           \u001B[31m│\u001B[0m\n\u001B[31m│\u001B[0m   \u001B[2m1671 \u001B[0m\u001B[2m│   │   │   \u001B[0m\u001B[94mraise\u001B[0m \u001B[96mRuntimeError\u001B[0m(\u001B[33m'\u001B[0m\u001B[33mError(s) in loading state_dict for \u001B[0m\u001B[33m{}\u001B[0m\u001B[33m:\u001B[0m\u001B[33m\\n\u001B[0m\u001B[33m\\t\u001B[0m\u001B[33m{}\u001B[0m\u001B[33m'\u001B[0m.format(     \u001B[31m│\u001B[0m\n\u001B[31m│\u001B[0m \u001B[31m❱ \u001B[0m1672 \u001B[2m│   │   │   │   │   │   │      \u001B[0m\u001B[96mself\u001B[0m.\u001B[91m__class__\u001B[0m.\u001B[91m__name__\u001B[0m, \u001B[33m\"\u001B[0m\u001B[33m\\n\u001B[0m\u001B[33m\\t\u001B[0m\u001B[33m\"\u001B[0m.join(error_msgs)))         \u001B[31m│\u001B[0m\n\u001B[31m│\u001B[0m   \u001B[2m1673 \u001B[0m\u001B[2m│   │   \u001B[0m\u001B[94mreturn\u001B[0m _IncompatibleKeys(missing_keys, unexpected_keys)                           \u001B[31m│\u001B[0m\n\u001B[31m│\u001B[0m   \u001B[2m1674 \u001B[0m\u001B[2m│   \u001B[0m                                                                                      \u001B[31m│\u001B[0m\n\u001B[31m│\u001B[0m   \u001B[2m1675 \u001B[0m\u001B[2m│   \u001B[0m\u001B[94mdef\u001B[0m \u001B[92m_named_members\u001B[0m(\u001B[96mself\u001B[0m, get_members_fn, prefix=\u001B[33m'\u001B[0m\u001B[33m'\u001B[0m, recurse=\u001B[94mTrue\u001B[0m):                    \u001B[31m│\u001B[0m\n\u001B[31m╰──────────────────────────────────────────────────────────────────────────────────────────────────╯\u001B[0m\n\u001B[1;91mRuntimeError: \u001B[0m\u001B[1;35mError\u001B[0m\u001B[1m(\u001B[0ms\u001B[1m)\u001B[0m in loading state_dict for GaussianDiffusion:\n        size mismatch for betas: copying a param with shape \u001B[1;35mtorch.Size\u001B[0m\u001B[1m(\u001B[0m\u001B[1m[\u001B[0m\u001B[1;36m1000\u001B[0m\u001B[1m]\u001B[0m\u001B[1m)\u001B[0m from checkpoint, the shape in \ncurrent model is \u001B[1;35mtorch.Size\u001B[0m\u001B[1m(\u001B[0m\u001B[1m[\u001B[0m\u001B[1;36m2000\u001B[0m\u001B[1m]\u001B[0m\u001B[1m)\u001B[0m.\n        size mismatch for alphas_cumprod: copying a param with shape \u001B[1;35mtorch.Size\u001B[0m\u001B[1m(\u001B[0m\u001B[1m[\u001B[0m\u001B[1;36m1000\u001B[0m\u001B[1m]\u001B[0m\u001B[1m)\u001B[0m from checkpoint, the shape \nin current model is \u001B[1;35mtorch.Size\u001B[0m\u001B[1m(\u001B[0m\u001B[1m[\u001B[0m\u001B[1;36m2000\u001B[0m\u001B[1m]\u001B[0m\u001B[1m)\u001B[0m.\n        size mismatch for alphas_cumprod_prev: copying a param with shape \u001B[1;35mtorch.Size\u001B[0m\u001B[1m(\u001B[0m\u001B[1m[\u001B[0m\u001B[1;36m1000\u001B[0m\u001B[1m]\u001B[0m\u001B[1m)\u001B[0m from checkpoint, the \nshape in current model is \u001B[1;35mtorch.Size\u001B[0m\u001B[1m(\u001B[0m\u001B[1m[\u001B[0m\u001B[1;36m2000\u001B[0m\u001B[1m]\u001B[0m\u001B[1m)\u001B[0m.\n        size mismatch for sqrt_alphas_cumprod: copying a param with shape \u001B[1;35mtorch.Size\u001B[0m\u001B[1m(\u001B[0m\u001B[1m[\u001B[0m\u001B[1;36m1000\u001B[0m\u001B[1m]\u001B[0m\u001B[1m)\u001B[0m from checkpoint, the \nshape in current model is \u001B[1;35mtorch.Size\u001B[0m\u001B[1m(\u001B[0m\u001B[1m[\u001B[0m\u001B[1;36m2000\u001B[0m\u001B[1m]\u001B[0m\u001B[1m)\u001B[0m.\n        size mismatch for sqrt_one_minus_alphas_cumprod: copying a param with shape \u001B[1;35mtorch.Size\u001B[0m\u001B[1m(\u001B[0m\u001B[1m[\u001B[0m\u001B[1;36m1000\u001B[0m\u001B[1m]\u001B[0m\u001B[1m)\u001B[0m from \ncheckpoint, the shape in current model is \u001B[1;35mtorch.Size\u001B[0m\u001B[1m(\u001B[0m\u001B[1m[\u001B[0m\u001B[1;36m2000\u001B[0m\u001B[1m]\u001B[0m\u001B[1m)\u001B[0m.\n        size mismatch for log_one_minus_alphas_cumprod: copying a param with shape \u001B[1;35mtorch.Size\u001B[0m\u001B[1m(\u001B[0m\u001B[1m[\u001B[0m\u001B[1;36m1000\u001B[0m\u001B[1m]\u001B[0m\u001B[1m)\u001B[0m from \ncheckpoint, the shape in current model is \u001B[1;35mtorch.Size\u001B[0m\u001B[1m(\u001B[0m\u001B[1m[\u001B[0m\u001B[1;36m2000\u001B[0m\u001B[1m]\u001B[0m\u001B[1m)\u001B[0m.\n        size mismatch for sqrt_recip_alphas_cumprod: copying a param with shape \u001B[1;35mtorch.Size\u001B[0m\u001B[1m(\u001B[0m\u001B[1m[\u001B[0m\u001B[1;36m1000\u001B[0m\u001B[1m]\u001B[0m\u001B[1m)\u001B[0m from checkpoint,\nthe shape in current model is \u001B[1;35mtorch.Size\u001B[0m\u001B[1m(\u001B[0m\u001B[1m[\u001B[0m\u001B[1;36m2000\u001B[0m\u001B[1m]\u001B[0m\u001B[1m)\u001B[0m.\n        size mismatch for sqrt_recipm1_alphas_cumprod: copying a param with shape \u001B[1;35mtorch.Size\u001B[0m\u001B[1m(\u001B[0m\u001B[1m[\u001B[0m\u001B[1;36m1000\u001B[0m\u001B[1m]\u001B[0m\u001B[1m)\u001B[0m from \ncheckpoint, the shape in current model is \u001B[1;35mtorch.Size\u001B[0m\u001B[1m(\u001B[0m\u001B[1m[\u001B[0m\u001B[1;36m2000\u001B[0m\u001B[1m]\u001B[0m\u001B[1m)\u001B[0m.\n        size mismatch for posterior_variance: copying a param with shape \u001B[1;35mtorch.Size\u001B[0m\u001B[1m(\u001B[0m\u001B[1m[\u001B[0m\u001B[1;36m1000\u001B[0m\u001B[1m]\u001B[0m\u001B[1m)\u001B[0m from checkpoint, the \nshape in current model is \u001B[1;35mtorch.Size\u001B[0m\u001B[1m(\u001B[0m\u001B[1m[\u001B[0m\u001B[1;36m2000\u001B[0m\u001B[1m]\u001B[0m\u001B[1m)\u001B[0m.\n        size mismatch for posterior_log_variance_clipped: copying a param with shape \u001B[1;35mtorch.Size\u001B[0m\u001B[1m(\u001B[0m\u001B[1m[\u001B[0m\u001B[1;36m1000\u001B[0m\u001B[1m]\u001B[0m\u001B[1m)\u001B[0m from \ncheckpoint, the shape in current model is \u001B[1;35mtorch.Size\u001B[0m\u001B[1m(\u001B[0m\u001B[1m[\u001B[0m\u001B[1;36m2000\u001B[0m\u001B[1m]\u001B[0m\u001B[1m)\u001B[0m.\n        size mismatch for posterior_mean_coef1: copying a param with shape \u001B[1;35mtorch.Size\u001B[0m\u001B[1m(\u001B[0m\u001B[1m[\u001B[0m\u001B[1;36m1000\u001B[0m\u001B[1m]\u001B[0m\u001B[1m)\u001B[0m from checkpoint, the \nshape in current model is \u001B[1;35mtorch.Size\u001B[0m\u001B[1m(\u001B[0m\u001B[1m[\u001B[0m\u001B[1;36m2000\u001B[0m\u001B[1m]\u001B[0m\u001B[1m)\u001B[0m.\n        size mismatch for posterior_mean_coef2: copying a param with shape \u001B[1;35mtorch.Size\u001B[0m\u001B[1m(\u001B[0m\u001B[1m[\u001B[0m\u001B[1;36m1000\u001B[0m\u001B[1m]\u001B[0m\u001B[1m)\u001B[0m from checkpoint, the \nshape in current model is \u001B[1;35mtorch.Size\u001B[0m\u001B[1m(\u001B[0m\u001B[1m[\u001B[0m\u001B[1;36m2000\u001B[0m\u001B[1m]\u001B[0m\u001B[1m)\u001B[0m.\n        size mismatch for p2_loss_weight: copying a param with shape \u001B[1;35mtorch.Size\u001B[0m\u001B[1m(\u001B[0m\u001B[1m[\u001B[0m\u001B[1;36m1000\u001B[0m\u001B[1m]\u001B[0m\u001B[1m)\u001B[0m from checkpoint, the shape \nin current model is \u001B[1;35mtorch.Size\u001B[0m\u001B[1m(\u001B[0m\u001B[1m[\u001B[0m\u001B[1;36m2000\u001B[0m\u001B[1m]\u001B[0m\u001B[1m)\u001B[0m.\n",
      "text/html": "<pre style=\"white-space:pre;overflow-x:auto;line-height:normal;font-family:Menlo,'DejaVu Sans Mono',consolas,'Courier New',monospace\"><span style=\"color: #800000; text-decoration-color: #800000\">╭─────────────────────────────── </span><span style=\"color: #800000; text-decoration-color: #800000; font-weight: bold\">Traceback </span><span style=\"color: #bf7f7f; text-decoration-color: #bf7f7f; font-weight: bold\">(most recent call last)</span><span style=\"color: #800000; text-decoration-color: #800000\"> ────────────────────────────────╮</span>\n<span style=\"color: #800000; text-decoration-color: #800000\">│</span> in <span style=\"color: #00ff00; text-decoration-color: #00ff00\">&lt;module&gt;</span>                                                                                      <span style=\"color: #800000; text-decoration-color: #800000\">│</span>\n<span style=\"color: #800000; text-decoration-color: #800000\">│</span>                                                                                                  <span style=\"color: #800000; text-decoration-color: #800000\">│</span>\n<span style=\"color: #800000; text-decoration-color: #800000\">│</span>   <span style=\"color: #7f7f7f; text-decoration-color: #7f7f7f\">1 # load the pretrained LDM</span>                                                                    <span style=\"color: #800000; text-decoration-color: #800000\">│</span>\n<span style=\"color: #800000; text-decoration-color: #800000\">│</span> <span style=\"color: #800000; text-decoration-color: #800000\">❱ </span>2 trainer.load(milestone=<span style=\"color: #0000ff; text-decoration-color: #0000ff\">67</span>)                                                                   <span style=\"color: #800000; text-decoration-color: #800000\">│</span>\n<span style=\"color: #800000; text-decoration-color: #800000\">│</span>   <span style=\"color: #7f7f7f; text-decoration-color: #7f7f7f\">3 </span>                                                                                             <span style=\"color: #800000; text-decoration-color: #800000\">│</span>\n<span style=\"color: #800000; text-decoration-color: #800000\">│</span>                                                                                                  <span style=\"color: #800000; text-decoration-color: #800000\">│</span>\n<span style=\"color: #800000; text-decoration-color: #800000\">│</span> <span style=\"color: #808000; text-decoration-color: #808000\">C:\\projects\\denoising-diffusion-pytorch\\denoising_diffusion_pytorch\\denoising_diffusion_pytorch.</span> <span style=\"color: #800000; text-decoration-color: #800000\">│</span>\n<span style=\"color: #800000; text-decoration-color: #800000\">│</span> <span style=\"color: #808000; text-decoration-color: #808000\">py</span>:<span style=\"color: #0000ff; text-decoration-color: #0000ff\">918</span> in <span style=\"color: #00ff00; text-decoration-color: #00ff00\">load</span>                                                                                   <span style=\"color: #800000; text-decoration-color: #800000\">│</span>\n<span style=\"color: #800000; text-decoration-color: #800000\">│</span>                                                                                                  <span style=\"color: #800000; text-decoration-color: #800000\">│</span>\n<span style=\"color: #800000; text-decoration-color: #800000\">│</span>   <span style=\"color: #7f7f7f; text-decoration-color: #7f7f7f\">915 │   │   </span>data = torch.load(<span style=\"color: #00ffff; text-decoration-color: #00ffff\">str</span>(<span style=\"color: #00ffff; text-decoration-color: #00ffff\">self</span>.results_folder / <span style=\"color: #808000; text-decoration-color: #808000\">f'model-{</span>milestone<span style=\"color: #808000; text-decoration-color: #808000\">}.pt'</span>), map_locati   <span style=\"color: #800000; text-decoration-color: #800000\">│</span>\n<span style=\"color: #800000; text-decoration-color: #800000\">│</span>   <span style=\"color: #7f7f7f; text-decoration-color: #7f7f7f\">916 │   │   </span>                                                                                   <span style=\"color: #800000; text-decoration-color: #800000\">│</span>\n<span style=\"color: #800000; text-decoration-color: #800000\">│</span>   <span style=\"color: #7f7f7f; text-decoration-color: #7f7f7f\">917 │   │   </span>model = <span style=\"color: #00ffff; text-decoration-color: #00ffff\">self</span>.accelerator.unwrap_model(<span style=\"color: #00ffff; text-decoration-color: #00ffff\">self</span>.model)                                  <span style=\"color: #800000; text-decoration-color: #800000\">│</span>\n<span style=\"color: #800000; text-decoration-color: #800000\">│</span> <span style=\"color: #800000; text-decoration-color: #800000\">❱ </span>918 <span style=\"color: #7f7f7f; text-decoration-color: #7f7f7f\">│   │   </span>model.load_state_dict(data[<span style=\"color: #808000; text-decoration-color: #808000\">'model'</span>])                                               <span style=\"color: #800000; text-decoration-color: #800000\">│</span>\n<span style=\"color: #800000; text-decoration-color: #800000\">│</span>   <span style=\"color: #7f7f7f; text-decoration-color: #7f7f7f\">919 │   │   </span>                                                                                   <span style=\"color: #800000; text-decoration-color: #800000\">│</span>\n<span style=\"color: #800000; text-decoration-color: #800000\">│</span>   <span style=\"color: #7f7f7f; text-decoration-color: #7f7f7f\">920 │   │   </span><span style=\"color: #00ffff; text-decoration-color: #00ffff\">self</span>.step = data[<span style=\"color: #808000; text-decoration-color: #808000\">'step'</span>]                                                           <span style=\"color: #800000; text-decoration-color: #800000\">│</span>\n<span style=\"color: #800000; text-decoration-color: #800000\">│</span>   <span style=\"color: #7f7f7f; text-decoration-color: #7f7f7f\">921 │   │   </span><span style=\"color: #00ffff; text-decoration-color: #00ffff\">self</span>.opt.load_state_dict(data[<span style=\"color: #808000; text-decoration-color: #808000\">'opt'</span>])                                              <span style=\"color: #800000; text-decoration-color: #800000\">│</span>\n<span style=\"color: #800000; text-decoration-color: #800000\">│</span>                                                                                                  <span style=\"color: #800000; text-decoration-color: #800000\">│</span>\n<span style=\"color: #800000; text-decoration-color: #800000\">│</span> <span style=\"color: #808000; text-decoration-color: #808000\">C:\\Users\\dslee\\anaconda3\\envs\\geo_diffusion\\lib\\site-packages\\torch\\nn\\modules\\module.py</span>:<span style=\"color: #0000ff; text-decoration-color: #0000ff\">1672</span> in <span style=\"color: #800000; text-decoration-color: #800000\">│</span>\n<span style=\"color: #800000; text-decoration-color: #800000\">│</span> <span style=\"color: #00ff00; text-decoration-color: #00ff00\">load_state_dict</span>                                                                                  <span style=\"color: #800000; text-decoration-color: #800000\">│</span>\n<span style=\"color: #800000; text-decoration-color: #800000\">│</span>                                                                                                  <span style=\"color: #800000; text-decoration-color: #800000\">│</span>\n<span style=\"color: #800000; text-decoration-color: #800000\">│</span>   <span style=\"color: #7f7f7f; text-decoration-color: #7f7f7f\">1669 │   │   </span>                                                                                  <span style=\"color: #800000; text-decoration-color: #800000\">│</span>\n<span style=\"color: #800000; text-decoration-color: #800000\">│</span>   <span style=\"color: #7f7f7f; text-decoration-color: #7f7f7f\">1670 │   │   </span><span style=\"color: #0000ff; text-decoration-color: #0000ff\">if</span> <span style=\"color: #00ffff; text-decoration-color: #00ffff\">len</span>(error_msgs) &gt; <span style=\"color: #0000ff; text-decoration-color: #0000ff\">0</span>:                                                           <span style=\"color: #800000; text-decoration-color: #800000\">│</span>\n<span style=\"color: #800000; text-decoration-color: #800000\">│</span>   <span style=\"color: #7f7f7f; text-decoration-color: #7f7f7f\">1671 │   │   │   </span><span style=\"color: #0000ff; text-decoration-color: #0000ff\">raise</span> <span style=\"color: #00ffff; text-decoration-color: #00ffff\">RuntimeError</span>(<span style=\"color: #808000; text-decoration-color: #808000\">'Error(s) in loading state_dict for {}:\\n\\t{}'</span>.format(     <span style=\"color: #800000; text-decoration-color: #800000\">│</span>\n<span style=\"color: #800000; text-decoration-color: #800000\">│</span> <span style=\"color: #800000; text-decoration-color: #800000\">❱ </span>1672 <span style=\"color: #7f7f7f; text-decoration-color: #7f7f7f\">│   │   │   │   │   │   │      </span><span style=\"color: #00ffff; text-decoration-color: #00ffff\">self</span>.<span style=\"color: #ff0000; text-decoration-color: #ff0000\">__class__</span>.<span style=\"color: #ff0000; text-decoration-color: #ff0000\">__name__</span>, <span style=\"color: #808000; text-decoration-color: #808000\">\"\\n\\t\"</span>.join(error_msgs)))         <span style=\"color: #800000; text-decoration-color: #800000\">│</span>\n<span style=\"color: #800000; text-decoration-color: #800000\">│</span>   <span style=\"color: #7f7f7f; text-decoration-color: #7f7f7f\">1673 │   │   </span><span style=\"color: #0000ff; text-decoration-color: #0000ff\">return</span> _IncompatibleKeys(missing_keys, unexpected_keys)                           <span style=\"color: #800000; text-decoration-color: #800000\">│</span>\n<span style=\"color: #800000; text-decoration-color: #800000\">│</span>   <span style=\"color: #7f7f7f; text-decoration-color: #7f7f7f\">1674 │   </span>                                                                                      <span style=\"color: #800000; text-decoration-color: #800000\">│</span>\n<span style=\"color: #800000; text-decoration-color: #800000\">│</span>   <span style=\"color: #7f7f7f; text-decoration-color: #7f7f7f\">1675 │   </span><span style=\"color: #0000ff; text-decoration-color: #0000ff\">def</span> <span style=\"color: #00ff00; text-decoration-color: #00ff00\">_named_members</span>(<span style=\"color: #00ffff; text-decoration-color: #00ffff\">self</span>, get_members_fn, prefix=<span style=\"color: #808000; text-decoration-color: #808000\">''</span>, recurse=<span style=\"color: #0000ff; text-decoration-color: #0000ff\">True</span>):                    <span style=\"color: #800000; text-decoration-color: #800000\">│</span>\n<span style=\"color: #800000; text-decoration-color: #800000\">╰──────────────────────────────────────────────────────────────────────────────────────────────────╯</span>\n<span style=\"color: #ff0000; text-decoration-color: #ff0000; font-weight: bold\">RuntimeError: </span><span style=\"color: #800080; text-decoration-color: #800080; font-weight: bold\">Error</span><span style=\"font-weight: bold\">(</span>s<span style=\"font-weight: bold\">)</span> in loading state_dict for GaussianDiffusion:\n        size mismatch for betas: copying a param with shape <span style=\"color: #800080; text-decoration-color: #800080; font-weight: bold\">torch.Size</span><span style=\"font-weight: bold\">([</span><span style=\"color: #008080; text-decoration-color: #008080; font-weight: bold\">1000</span><span style=\"font-weight: bold\">])</span> from checkpoint, the shape in \ncurrent model is <span style=\"color: #800080; text-decoration-color: #800080; font-weight: bold\">torch.Size</span><span style=\"font-weight: bold\">([</span><span style=\"color: #008080; text-decoration-color: #008080; font-weight: bold\">2000</span><span style=\"font-weight: bold\">])</span>.\n        size mismatch for alphas_cumprod: copying a param with shape <span style=\"color: #800080; text-decoration-color: #800080; font-weight: bold\">torch.Size</span><span style=\"font-weight: bold\">([</span><span style=\"color: #008080; text-decoration-color: #008080; font-weight: bold\">1000</span><span style=\"font-weight: bold\">])</span> from checkpoint, the shape \nin current model is <span style=\"color: #800080; text-decoration-color: #800080; font-weight: bold\">torch.Size</span><span style=\"font-weight: bold\">([</span><span style=\"color: #008080; text-decoration-color: #008080; font-weight: bold\">2000</span><span style=\"font-weight: bold\">])</span>.\n        size mismatch for alphas_cumprod_prev: copying a param with shape <span style=\"color: #800080; text-decoration-color: #800080; font-weight: bold\">torch.Size</span><span style=\"font-weight: bold\">([</span><span style=\"color: #008080; text-decoration-color: #008080; font-weight: bold\">1000</span><span style=\"font-weight: bold\">])</span> from checkpoint, the \nshape in current model is <span style=\"color: #800080; text-decoration-color: #800080; font-weight: bold\">torch.Size</span><span style=\"font-weight: bold\">([</span><span style=\"color: #008080; text-decoration-color: #008080; font-weight: bold\">2000</span><span style=\"font-weight: bold\">])</span>.\n        size mismatch for sqrt_alphas_cumprod: copying a param with shape <span style=\"color: #800080; text-decoration-color: #800080; font-weight: bold\">torch.Size</span><span style=\"font-weight: bold\">([</span><span style=\"color: #008080; text-decoration-color: #008080; font-weight: bold\">1000</span><span style=\"font-weight: bold\">])</span> from checkpoint, the \nshape in current model is <span style=\"color: #800080; text-decoration-color: #800080; font-weight: bold\">torch.Size</span><span style=\"font-weight: bold\">([</span><span style=\"color: #008080; text-decoration-color: #008080; font-weight: bold\">2000</span><span style=\"font-weight: bold\">])</span>.\n        size mismatch for sqrt_one_minus_alphas_cumprod: copying a param with shape <span style=\"color: #800080; text-decoration-color: #800080; font-weight: bold\">torch.Size</span><span style=\"font-weight: bold\">([</span><span style=\"color: #008080; text-decoration-color: #008080; font-weight: bold\">1000</span><span style=\"font-weight: bold\">])</span> from \ncheckpoint, the shape in current model is <span style=\"color: #800080; text-decoration-color: #800080; font-weight: bold\">torch.Size</span><span style=\"font-weight: bold\">([</span><span style=\"color: #008080; text-decoration-color: #008080; font-weight: bold\">2000</span><span style=\"font-weight: bold\">])</span>.\n        size mismatch for log_one_minus_alphas_cumprod: copying a param with shape <span style=\"color: #800080; text-decoration-color: #800080; font-weight: bold\">torch.Size</span><span style=\"font-weight: bold\">([</span><span style=\"color: #008080; text-decoration-color: #008080; font-weight: bold\">1000</span><span style=\"font-weight: bold\">])</span> from \ncheckpoint, the shape in current model is <span style=\"color: #800080; text-decoration-color: #800080; font-weight: bold\">torch.Size</span><span style=\"font-weight: bold\">([</span><span style=\"color: #008080; text-decoration-color: #008080; font-weight: bold\">2000</span><span style=\"font-weight: bold\">])</span>.\n        size mismatch for sqrt_recip_alphas_cumprod: copying a param with shape <span style=\"color: #800080; text-decoration-color: #800080; font-weight: bold\">torch.Size</span><span style=\"font-weight: bold\">([</span><span style=\"color: #008080; text-decoration-color: #008080; font-weight: bold\">1000</span><span style=\"font-weight: bold\">])</span> from checkpoint,\nthe shape in current model is <span style=\"color: #800080; text-decoration-color: #800080; font-weight: bold\">torch.Size</span><span style=\"font-weight: bold\">([</span><span style=\"color: #008080; text-decoration-color: #008080; font-weight: bold\">2000</span><span style=\"font-weight: bold\">])</span>.\n        size mismatch for sqrt_recipm1_alphas_cumprod: copying a param with shape <span style=\"color: #800080; text-decoration-color: #800080; font-weight: bold\">torch.Size</span><span style=\"font-weight: bold\">([</span><span style=\"color: #008080; text-decoration-color: #008080; font-weight: bold\">1000</span><span style=\"font-weight: bold\">])</span> from \ncheckpoint, the shape in current model is <span style=\"color: #800080; text-decoration-color: #800080; font-weight: bold\">torch.Size</span><span style=\"font-weight: bold\">([</span><span style=\"color: #008080; text-decoration-color: #008080; font-weight: bold\">2000</span><span style=\"font-weight: bold\">])</span>.\n        size mismatch for posterior_variance: copying a param with shape <span style=\"color: #800080; text-decoration-color: #800080; font-weight: bold\">torch.Size</span><span style=\"font-weight: bold\">([</span><span style=\"color: #008080; text-decoration-color: #008080; font-weight: bold\">1000</span><span style=\"font-weight: bold\">])</span> from checkpoint, the \nshape in current model is <span style=\"color: #800080; text-decoration-color: #800080; font-weight: bold\">torch.Size</span><span style=\"font-weight: bold\">([</span><span style=\"color: #008080; text-decoration-color: #008080; font-weight: bold\">2000</span><span style=\"font-weight: bold\">])</span>.\n        size mismatch for posterior_log_variance_clipped: copying a param with shape <span style=\"color: #800080; text-decoration-color: #800080; font-weight: bold\">torch.Size</span><span style=\"font-weight: bold\">([</span><span style=\"color: #008080; text-decoration-color: #008080; font-weight: bold\">1000</span><span style=\"font-weight: bold\">])</span> from \ncheckpoint, the shape in current model is <span style=\"color: #800080; text-decoration-color: #800080; font-weight: bold\">torch.Size</span><span style=\"font-weight: bold\">([</span><span style=\"color: #008080; text-decoration-color: #008080; font-weight: bold\">2000</span><span style=\"font-weight: bold\">])</span>.\n        size mismatch for posterior_mean_coef1: copying a param with shape <span style=\"color: #800080; text-decoration-color: #800080; font-weight: bold\">torch.Size</span><span style=\"font-weight: bold\">([</span><span style=\"color: #008080; text-decoration-color: #008080; font-weight: bold\">1000</span><span style=\"font-weight: bold\">])</span> from checkpoint, the \nshape in current model is <span style=\"color: #800080; text-decoration-color: #800080; font-weight: bold\">torch.Size</span><span style=\"font-weight: bold\">([</span><span style=\"color: #008080; text-decoration-color: #008080; font-weight: bold\">2000</span><span style=\"font-weight: bold\">])</span>.\n        size mismatch for posterior_mean_coef2: copying a param with shape <span style=\"color: #800080; text-decoration-color: #800080; font-weight: bold\">torch.Size</span><span style=\"font-weight: bold\">([</span><span style=\"color: #008080; text-decoration-color: #008080; font-weight: bold\">1000</span><span style=\"font-weight: bold\">])</span> from checkpoint, the \nshape in current model is <span style=\"color: #800080; text-decoration-color: #800080; font-weight: bold\">torch.Size</span><span style=\"font-weight: bold\">([</span><span style=\"color: #008080; text-decoration-color: #008080; font-weight: bold\">2000</span><span style=\"font-weight: bold\">])</span>.\n        size mismatch for p2_loss_weight: copying a param with shape <span style=\"color: #800080; text-decoration-color: #800080; font-weight: bold\">torch.Size</span><span style=\"font-weight: bold\">([</span><span style=\"color: #008080; text-decoration-color: #008080; font-weight: bold\">1000</span><span style=\"font-weight: bold\">])</span> from checkpoint, the shape \nin current model is <span style=\"color: #800080; text-decoration-color: #800080; font-weight: bold\">torch.Size</span><span style=\"font-weight: bold\">([</span><span style=\"color: #008080; text-decoration-color: #008080; font-weight: bold\">2000</span><span style=\"font-weight: bold\">])</span>.\n</pre>\n"
     },
     "metadata": {},
     "output_type": "display_data"
    }
   ],
   "source": [
    "# load the pretrained LDM\n",
    "trainer.load(milestone=)"
   ],
   "metadata": {
    "collapsed": false,
    "pycharm": {
     "name": "#%%\n"
    }
   }
  },
  {
   "cell_type": "code",
   "execution_count": null,
   "outputs": [],
   "source": [
    "# sample z\n",
    "trainer.ema.ema_model.eval()\n",
    "z_gen = trainer.ema.ema_model.sample(batch_size=9)\n",
    "\n",
    "print('z_gen.shape:', z_gen.shape)"
   ],
   "metadata": {
    "collapsed": false,
    "pycharm": {
     "name": "#%%\n"
    }
   }
  },
  {
   "cell_type": "code",
   "execution_count": null,
   "outputs": [],
   "source": [
    "plt.hist(z_gen.cpu().detach().numpy().flatten(), bins=100, log=True)\n",
    "plt.show()"
   ],
   "metadata": {
    "collapsed": false,
    "pycharm": {
     "name": "#%%\n"
    }
   }
  },
  {
   "cell_type": "code",
   "execution_count": null,
   "outputs": [],
   "source": [
    "# # VQ(z_gen)\n",
    "# h, w = z_gen.shape[2], z_gen.shape[3]\n",
    "# z_gen = rearrange(z_gen, 'b d h w -> b (h w) d')\n",
    "# z_gen, _ = trainer.pretrained_vq._codebook(z_gen)\n",
    "# z_gen = rearrange(z_gen, 'b (h w) d -> b d h w', h=h, w=w)\n",
    "\n",
    "# decode\n",
    "z_gen = rearrange(z_gen, 'b d h w -> b h w d')\n",
    "z_gen = trainer.pretrained_vq.project_out(z_gen)\n",
    "z_gen = rearrange(z_gen, 'b h w d -> b d h w')\n",
    "print('z_gen.shape:', z_gen.shape)\n",
    "\n",
    "x_gen = trainer.pretrained_decoder(z_gen)  # (b c h w)\n",
    "x_gen = x_gen.cpu().detach()\n",
    "x_gen = x_gen.argmax(dim=1)[:,None,:,:].float()\n",
    "print('x_gen.shape:', x_gen.shape)"
   ],
   "metadata": {
    "collapsed": false,
    "pycharm": {
     "name": "#%%\n"
    }
   }
  },
  {
   "cell_type": "code",
   "execution_count": null,
   "outputs": [],
   "source": [
    "# plot\n",
    "n_samples = x_gen.shape[0]\n",
    "n_rows = int(np.ceil(np.sqrt(n_samples)))\n",
    "fig, axes = plt.subplots(n_rows, n_rows, figsize=(12, 12))\n",
    "axes = axes.flatten()\n",
    "\n",
    "data = x_gen.numpy()  # (b 1 h w)\n",
    "data = np.flip(data, axis=2)  # (b 1 h w)\n",
    "data = data.squeeze()  # (b h w)\n",
    "for i in range(n_samples):\n",
    "    d = data[i]  # (h w)\n",
    "    axes[i].imshow(d)\n",
    "    axes[i].set_xticks([])\n",
    "    axes[i].set_yticks([])\n",
    "plt.tight_layout()\n",
    "plt.show()"
   ],
   "metadata": {
    "collapsed": false,
    "pycharm": {
     "name": "#%%\n"
    }
   }
  },
  {
   "cell_type": "code",
   "execution_count": null,
   "outputs": [],
   "source": [],
   "metadata": {
    "collapsed": false,
    "pycharm": {
     "name": "#%%\n"
    }
   }
  },
  {
   "cell_type": "code",
   "execution_count": 8,
   "outputs": [],
   "source": [],
   "metadata": {
    "collapsed": false,
    "pycharm": {
     "name": "#%%\n"
    }
   }
  }
 ],
 "metadata": {
  "kernelspec": {
   "display_name": "Python 3",
   "language": "python",
   "name": "python3"
  },
  "language_info": {
   "codemirror_mode": {
    "name": "ipython",
    "version": 2
   },
   "file_extension": ".py",
   "mimetype": "text/x-python",
   "name": "python",
   "nbconvert_exporter": "python",
   "pygments_lexer": "ipython2",
   "version": "2.7.6"
  }
 },
 "nbformat": 4,
 "nbformat_minor": 0
}