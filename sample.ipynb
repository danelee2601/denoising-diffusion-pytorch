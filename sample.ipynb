{
 "cells": [
  {
   "cell_type": "code",
   "execution_count": 1,
   "metadata": {
    "pycharm": {
     "name": "#%%\n"
    }
   },
   "outputs": [],
   "source": [
    "import os\n",
    "from argparse import ArgumentParser\n",
    "\n",
    "import numpy as np\n",
    "import matplotlib.pyplot as plt\n",
    "import wandb\n",
    "import torch\n",
    "from denoising_diffusion_pytorch import Unet, GaussianDiffusion, Trainer\n",
    "from encoder_decoders.vq_vae_encdec import VQVAEEncoder, VQVAEDecoder\n",
    "from vector_quantization import VectorQuantize\n",
    "from utils import load_yaml_param_settings, get_root_dir, freeze, quantize\n",
    "from einops import rearrange\n",
    "import einops\n",
    "import pandas as pd\n",
    "\n",
    "from stage2 import load_pretrained_encoder_decoder_vq\n",
    "from denoising_diffusion_pytorch.denoising_diffusion_pytorch import save_image, save_image_unconditional"
   ]
  },
  {
   "cell_type": "code",
   "execution_count": 2,
   "metadata": {
    "pycharm": {
     "name": "#%%\n"
    }
   },
   "outputs": [],
   "source": [
    "def load_args():\n",
    "    parser = ArgumentParser()\n",
    "    parser.add_argument('--config', type=str, help=\"Path to the config data  file.\",\n",
    "                        default=get_root_dir().joinpath('configs', 'config.yaml'))\n",
    "    return parser.parse_args([])"
   ]
  },
  {
   "cell_type": "code",
   "execution_count": 28,
   "metadata": {
    "pycharm": {
     "name": "#%%\n"
    },
    "scrolled": true
   },
   "outputs": [
    {
     "data": {
      "text/html": [
       "Finishing last run (ID:roey07pb) before initializing another..."
      ],
      "text/plain": [
       "<IPython.core.display.HTML object>"
      ]
     },
     "metadata": {},
     "output_type": "display_data"
    },
    {
     "data": {
      "text/html": [
       "Waiting for W&B process to finish... <strong style=\"color:green\">(success).</strong>"
      ],
      "text/plain": [
       "<IPython.core.display.HTML object>"
      ]
     },
     "metadata": {},
     "output_type": "display_data"
    },
    {
     "data": {
      "application/vnd.jupyter.widget-view+json": {
       "model_id": "d974a6940e0044bea378ce23e4c573cf",
       "version_major": 2,
       "version_minor": 0
      },
      "text/plain": [
       "VBox(children=(Label(value='0.001 MB of 0.001 MB uploaded (0.000 MB deduped)\\r'), FloatProgress(value=1.0, max…"
      ]
     },
     "metadata": {},
     "output_type": "display_data"
    },
    {
     "data": {
      "text/html": [
       " View run <strong style=\"color:#cdcd00\">logical-silence-88</strong> at: <a href='https://wandb.ai/daesoolee/GeoDiffusion-stage2/runs/roey07pb' target=\"_blank\">https://wandb.ai/daesoolee/GeoDiffusion-stage2/runs/roey07pb</a><br/>Synced 6 W&B file(s), 0 media file(s), 0 artifact file(s) and 0 other file(s)"
      ],
      "text/plain": [
       "<IPython.core.display.HTML object>"
      ]
     },
     "metadata": {},
     "output_type": "display_data"
    },
    {
     "data": {
      "text/html": [
       "Find logs at: <code>.\\wandb\\run-20230320_084956-roey07pb\\logs</code>"
      ],
      "text/plain": [
       "<IPython.core.display.HTML object>"
      ]
     },
     "metadata": {},
     "output_type": "display_data"
    },
    {
     "data": {
      "text/html": [
       "Successfully finished last run (ID:roey07pb). Initializing new run:<br/>"
      ],
      "text/plain": [
       "<IPython.core.display.HTML object>"
      ]
     },
     "metadata": {},
     "output_type": "display_data"
    },
    {
     "data": {
      "application/vnd.jupyter.widget-view+json": {
       "model_id": "f76b63d1c924484cb87ea54e7c3cb6f9",
       "version_major": 2,
       "version_minor": 0
      },
      "text/plain": [
       "VBox(children=(Label(value='Waiting for wandb.init()...\\r'), FloatProgress(value=0.016666666666666666, max=1.0…"
      ]
     },
     "metadata": {},
     "output_type": "display_data"
    },
    {
     "data": {
      "text/html": [
       "wandb version 0.14.0 is available!  To upgrade, please run:\n",
       " $ pip install wandb --upgrade"
      ],
      "text/plain": [
       "<IPython.core.display.HTML object>"
      ]
     },
     "metadata": {},
     "output_type": "display_data"
    },
    {
     "data": {
      "text/html": [
       "Tracking run with wandb version 0.13.10"
      ],
      "text/plain": [
       "<IPython.core.display.HTML object>"
      ]
     },
     "metadata": {},
     "output_type": "display_data"
    },
    {
     "data": {
      "text/html": [
       "Run data is saved locally in <code>C:\\projects\\denoising-diffusion-pytorch\\wandb\\run-20230320_085408-288lblgn</code>"
      ],
      "text/plain": [
       "<IPython.core.display.HTML object>"
      ]
     },
     "metadata": {},
     "output_type": "display_data"
    },
    {
     "data": {
      "text/html": [
       "Syncing run <strong><a href='https://wandb.ai/daesoolee/GeoDiffusion-stage2/runs/288lblgn' target=\"_blank\">breezy-pine-89</a></strong> to <a href='https://wandb.ai/daesoolee/GeoDiffusion-stage2' target=\"_blank\">Weights & Biases</a> (<a href='https://wandb.me/run' target=\"_blank\">docs</a>)<br/>"
      ],
      "text/plain": [
       "<IPython.core.display.HTML object>"
      ]
     },
     "metadata": {},
     "output_type": "display_data"
    },
    {
     "data": {
      "text/html": [
       " View project at <a href='https://wandb.ai/daesoolee/GeoDiffusion-stage2' target=\"_blank\">https://wandb.ai/daesoolee/GeoDiffusion-stage2</a>"
      ],
      "text/plain": [
       "<IPython.core.display.HTML object>"
      ]
     },
     "metadata": {},
     "output_type": "display_data"
    },
    {
     "data": {
      "text/html": [
       " View run at <a href='https://wandb.ai/daesoolee/GeoDiffusion-stage2/runs/288lblgn' target=\"_blank\">https://wandb.ai/daesoolee/GeoDiffusion-stage2/runs/288lblgn</a>"
      ],
      "text/plain": [
       "<IPython.core.display.HTML object>"
      ]
     },
     "metadata": {},
     "output_type": "display_data"
    },
    {
     "name": "stdout",
     "output_type": "stream",
     "text": [
      "Data loading... 0%\n",
      "Data loading... 2%\n",
      "Data loading... 4%\n",
      "Data loading... 6%\n",
      "Data loading... 8%\n",
      "Data loading... 10%\n",
      "Data loading... 12%\n",
      "Data loading... 14%\n",
      "Data loading... 16%\n",
      "Data loading... 18%\n",
      "Data loading... 20%\n",
      "Data loading... 22%\n",
      "Data loading... 24%\n",
      "Data loading... 26%\n",
      "Data loading... 28%\n",
      "Data loading... 30%\n",
      "Data loading... 32%\n",
      "Data loading... 34%\n",
      "Data loading... 36%\n",
      "Data loading... 38%\n",
      "Data loading... 40%\n",
      "Data loading... 42%\n",
      "Data loading... 44%\n",
      "Data loading... 46%\n",
      "Data loading... 48%\n",
      "Data loading... 50%\n",
      "Data loading... 52%\n",
      "Data loading... 54%\n",
      "Data loading... 56%\n",
      "Data loading... 58%\n",
      "Data loading... 60%\n",
      "Data loading... 62%\n",
      "Data loading... 64%\n",
      "Data loading... 66%\n",
      "Data loading... 68%\n",
      "Data loading... 70%\n",
      "Data loading... 72%\n",
      "Data loading... 74%\n",
      "Data loading... 76%\n",
      "Data loading... 78%\n",
      "Data loading... 80%\n",
      "Data loading... 82%\n",
      "Data loading... 84%\n",
      "Data loading... 86%\n",
      "Data loading... 88%\n",
      "Data loading... 90%\n",
      "Data loading... 92%\n",
      "Data loading... 94%\n",
      "Data loading... 96%\n",
      "Data loading... 98%\n",
      "self.X_train.shape: (3500, 4, 128, 128)\n",
      "self.X_test.shape: (1500, 4, 128, 128)\n"
     ]
    }
   ],
   "source": [
    "# Load the trained LDM\n",
    "\n",
    "# load config\n",
    "args = load_args()\n",
    "config = load_yaml_param_settings(args.config)\n",
    "\n",
    "# load the pretrained encoder, decoder, and vq\n",
    "encoder, decoder, vq_model = load_pretrained_encoder_decoder_vq(config, 'saved_models', freeze_models=True)\n",
    "encoder_cond, decoder_cond, vq_model_cond = load_pretrained_encoder_decoder_vq(config, 'saved_models', freeze_models=True, load_cond_models=True)\n",
    "encoder, decoder, vq_model = encoder.cuda(), decoder.cuda(), vq_model.cuda()\n",
    "encoder_cond, decoder_cond, vq_model_cond = encoder_cond.cuda(), decoder_cond.cuda(), vq_model_cond.cuda()\n",
    "\n",
    "# model\n",
    "model = Unet(\n",
    "    in_channels=config['VQ-VAE']['codebook_dim'],\n",
    "    dim=64,\n",
    "    dim_mults=(1, 2, 4, 8),\n",
    "    self_condition=config['diffusion']['unet']['self_condition'],\n",
    "    z_size=encoder.H_prime[0].item(),  # width or height of z\n",
    ").cuda()\n",
    "\n",
    "diffusion = GaussianDiffusion(\n",
    "    model,\n",
    "    in_size=encoder.H_prime[0].item(),  # width or height of z\n",
    "    timesteps=1000,  # number of steps\n",
    "    sampling_timesteps=1000,\n",
    "    # number of sampling timesteps (using ddim for faster inference [see citation for ddim paper])\n",
    "    loss_type='l1',  # L1 or L2\n",
    "    auto_normalize=False,\n",
    ").cuda()\n",
    "\n",
    "# train\n",
    "wandb.init(project='GeoDiffusion-stage2',config=config)\n",
    "trainer = Trainer(\n",
    "    diffusion,\n",
    "    config,\n",
    "    encoder,\n",
    "    decoder,\n",
    "    vq_model,\n",
    "    encoder_cond,\n",
    "    vq_model_cond,\n",
    "    train_batch_size=config['dataset']['batch_sizes']['stage2'],\n",
    "    train_lr=8e-5,\n",
    "    train_num_steps=700000,  # total training steps\n",
    "    gradient_accumulate_every=2,  # gradient accumulation steps\n",
    "    ema_decay=0.995,  # exponential moving average decay\n",
    "    amp=False,  # turn on mixed precision\n",
    "    fp16=False,\n",
    "    save_and_sample_every=1000, #1000,\n",
    "    num_samples=9,\n",
    "    augment_horizontal_flip=False,\n",
    "    dataset_type='test'\n",
    ")"
   ]
  },
  {
   "cell_type": "code",
   "execution_count": 29,
   "metadata": {
    "pycharm": {
     "name": "#%%\n"
    }
   },
   "outputs": [
    {
     "name": "stdout",
     "output_type": "stream",
     "text": [
      "loading from version 1.2.2\n"
     ]
    }
   ],
   "source": [
    "# load the pretrained LDM\n",
    "trainer.load(milestone=102)"
   ]
  },
  {
   "cell_type": "markdown",
   "metadata": {},
   "source": [
    "## Conditional sampling with randomly-sampled `X_cond` from the training set."
   ]
  },
  {
   "cell_type": "code",
   "execution_count": 30,
   "metadata": {},
   "outputs": [],
   "source": [
    "num_samples = 9"
   ]
  },
  {
   "cell_type": "code",
   "execution_count": 31,
   "metadata": {},
   "outputs": [],
   "source": [
    "# z_q_cond\n",
    "X_cond = []\n",
    "for _ in range(num_samples):\n",
    "    i = np.random.choice(len(trainer.ds))\n",
    "    x, x_cond = trainer.ds[i]  # (c h w)\n",
    "    X_cond.append(x_cond.numpy())\n",
    "X_cond = torch.from_numpy(np.array(X_cond))  # (b c h w); b == num_samples\n",
    "z_cond = trainer.pretrained_encoder_cond(X_cond.to(trainer.accelerator.device))  # (b c h' w')\n",
    "z_q_cond, _, _, _ = quantize(z_cond, trainer.pretrained_vq_cond, return_z_q_before_proj_out=True)"
   ]
  },
  {
   "cell_type": "code",
   "execution_count": 32,
   "metadata": {},
   "outputs": [
    {
     "data": {
      "text/plain": [
       "tensor([[[[1., 1., 1.,  ..., 1., 1., 1.],\n",
       "          [1., 1., 1.,  ..., 1., 1., 1.],\n",
       "          [1., 1., 1.,  ..., 1., 1., 1.],\n",
       "          ...,\n",
       "          [1., 1., 1.,  ..., 1., 1., 1.],\n",
       "          [1., 1., 1.,  ..., 1., 1., 1.],\n",
       "          [1., 1., 1.,  ..., 1., 1., 1.]],\n",
       "\n",
       "         [[0., 0., 0.,  ..., 0., 0., 0.],\n",
       "          [0., 0., 0.,  ..., 0., 0., 0.],\n",
       "          [0., 0., 0.,  ..., 0., 0., 0.],\n",
       "          ...,\n",
       "          [0., 0., 0.,  ..., 0., 0., 0.],\n",
       "          [0., 0., 0.,  ..., 0., 0., 0.],\n",
       "          [0., 0., 0.,  ..., 0., 0., 0.]],\n",
       "\n",
       "         [[0., 0., 0.,  ..., 0., 0., 0.],\n",
       "          [0., 0., 0.,  ..., 0., 0., 0.],\n",
       "          [0., 0., 0.,  ..., 0., 0., 0.],\n",
       "          ...,\n",
       "          [0., 0., 0.,  ..., 0., 0., 0.],\n",
       "          [0., 0., 0.,  ..., 0., 0., 0.],\n",
       "          [0., 0., 0.,  ..., 0., 0., 0.]],\n",
       "\n",
       "         [[0., 0., 0.,  ..., 0., 0., 0.],\n",
       "          [0., 0., 0.,  ..., 0., 0., 0.],\n",
       "          [0., 0., 0.,  ..., 0., 0., 0.],\n",
       "          ...,\n",
       "          [0., 0., 0.,  ..., 0., 0., 0.],\n",
       "          [0., 0., 0.,  ..., 0., 0., 0.],\n",
       "          [0., 0., 0.,  ..., 0., 0., 0.]]],\n",
       "\n",
       "\n",
       "        [[[1., 1., 1.,  ..., 1., 1., 1.],\n",
       "          [1., 1., 1.,  ..., 1., 1., 1.],\n",
       "          [1., 1., 1.,  ..., 1., 1., 1.],\n",
       "          ...,\n",
       "          [1., 1., 1.,  ..., 1., 1., 1.],\n",
       "          [1., 1., 1.,  ..., 1., 1., 1.],\n",
       "          [1., 1., 1.,  ..., 1., 1., 1.]],\n",
       "\n",
       "         [[0., 0., 0.,  ..., 0., 0., 0.],\n",
       "          [0., 0., 0.,  ..., 0., 0., 0.],\n",
       "          [0., 0., 0.,  ..., 0., 0., 0.],\n",
       "          ...,\n",
       "          [0., 0., 0.,  ..., 0., 0., 0.],\n",
       "          [0., 0., 0.,  ..., 0., 0., 0.],\n",
       "          [0., 0., 0.,  ..., 0., 0., 0.]],\n",
       "\n",
       "         [[0., 0., 0.,  ..., 0., 0., 0.],\n",
       "          [0., 0., 0.,  ..., 0., 0., 0.],\n",
       "          [0., 0., 0.,  ..., 0., 0., 0.],\n",
       "          ...,\n",
       "          [0., 0., 0.,  ..., 0., 0., 0.],\n",
       "          [0., 0., 0.,  ..., 0., 0., 0.],\n",
       "          [0., 0., 0.,  ..., 0., 0., 0.]],\n",
       "\n",
       "         [[0., 0., 0.,  ..., 0., 0., 0.],\n",
       "          [0., 0., 0.,  ..., 0., 0., 0.],\n",
       "          [0., 0., 0.,  ..., 0., 0., 0.],\n",
       "          ...,\n",
       "          [0., 0., 0.,  ..., 0., 0., 0.],\n",
       "          [0., 0., 0.,  ..., 0., 0., 0.],\n",
       "          [0., 0., 0.,  ..., 0., 0., 0.]]],\n",
       "\n",
       "\n",
       "        [[[1., 1., 1.,  ..., 1., 1., 1.],\n",
       "          [1., 1., 1.,  ..., 1., 1., 1.],\n",
       "          [1., 1., 1.,  ..., 1., 1., 1.],\n",
       "          ...,\n",
       "          [1., 1., 1.,  ..., 1., 1., 1.],\n",
       "          [1., 1., 1.,  ..., 1., 1., 1.],\n",
       "          [1., 1., 1.,  ..., 1., 1., 1.]],\n",
       "\n",
       "         [[0., 0., 0.,  ..., 0., 0., 0.],\n",
       "          [0., 0., 0.,  ..., 0., 0., 0.],\n",
       "          [0., 0., 0.,  ..., 0., 0., 0.],\n",
       "          ...,\n",
       "          [0., 0., 0.,  ..., 0., 0., 0.],\n",
       "          [0., 0., 0.,  ..., 0., 0., 0.],\n",
       "          [0., 0., 0.,  ..., 0., 0., 0.]],\n",
       "\n",
       "         [[0., 0., 0.,  ..., 0., 0., 0.],\n",
       "          [0., 0., 0.,  ..., 0., 0., 0.],\n",
       "          [0., 0., 0.,  ..., 0., 0., 0.],\n",
       "          ...,\n",
       "          [0., 0., 0.,  ..., 0., 0., 0.],\n",
       "          [0., 0., 0.,  ..., 0., 0., 0.],\n",
       "          [0., 0., 0.,  ..., 0., 0., 0.]],\n",
       "\n",
       "         [[0., 0., 0.,  ..., 0., 0., 0.],\n",
       "          [0., 0., 0.,  ..., 0., 0., 0.],\n",
       "          [0., 0., 0.,  ..., 0., 0., 0.],\n",
       "          ...,\n",
       "          [0., 0., 0.,  ..., 0., 0., 0.],\n",
       "          [0., 0., 0.,  ..., 0., 0., 0.],\n",
       "          [0., 0., 0.,  ..., 0., 0., 0.]]],\n",
       "\n",
       "\n",
       "        ...,\n",
       "\n",
       "\n",
       "        [[[1., 1., 1.,  ..., 1., 1., 1.],\n",
       "          [1., 1., 1.,  ..., 1., 1., 1.],\n",
       "          [1., 1., 1.,  ..., 1., 1., 1.],\n",
       "          ...,\n",
       "          [1., 1., 1.,  ..., 1., 1., 1.],\n",
       "          [1., 1., 1.,  ..., 1., 1., 1.],\n",
       "          [1., 1., 1.,  ..., 1., 1., 1.]],\n",
       "\n",
       "         [[0., 0., 0.,  ..., 0., 0., 0.],\n",
       "          [0., 0., 0.,  ..., 0., 0., 0.],\n",
       "          [0., 0., 0.,  ..., 0., 0., 0.],\n",
       "          ...,\n",
       "          [0., 0., 0.,  ..., 0., 0., 0.],\n",
       "          [0., 0., 0.,  ..., 0., 0., 0.],\n",
       "          [0., 0., 0.,  ..., 0., 0., 0.]],\n",
       "\n",
       "         [[0., 0., 0.,  ..., 0., 0., 0.],\n",
       "          [0., 0., 0.,  ..., 0., 0., 0.],\n",
       "          [0., 0., 0.,  ..., 0., 0., 0.],\n",
       "          ...,\n",
       "          [0., 0., 0.,  ..., 0., 0., 0.],\n",
       "          [0., 0., 0.,  ..., 0., 0., 0.],\n",
       "          [0., 0., 0.,  ..., 0., 0., 0.]],\n",
       "\n",
       "         [[0., 0., 0.,  ..., 0., 0., 0.],\n",
       "          [0., 0., 0.,  ..., 0., 0., 0.],\n",
       "          [0., 0., 0.,  ..., 0., 0., 0.],\n",
       "          ...,\n",
       "          [0., 0., 0.,  ..., 0., 0., 0.],\n",
       "          [0., 0., 0.,  ..., 0., 0., 0.],\n",
       "          [0., 0., 0.,  ..., 0., 0., 0.]]],\n",
       "\n",
       "\n",
       "        [[[1., 1., 1.,  ..., 1., 1., 1.],\n",
       "          [1., 1., 1.,  ..., 1., 1., 1.],\n",
       "          [1., 1., 1.,  ..., 1., 1., 1.],\n",
       "          ...,\n",
       "          [1., 1., 1.,  ..., 1., 1., 1.],\n",
       "          [1., 1., 1.,  ..., 1., 1., 1.],\n",
       "          [1., 1., 1.,  ..., 1., 1., 1.]],\n",
       "\n",
       "         [[0., 0., 0.,  ..., 0., 0., 0.],\n",
       "          [0., 0., 0.,  ..., 0., 0., 0.],\n",
       "          [0., 0., 0.,  ..., 0., 0., 0.],\n",
       "          ...,\n",
       "          [0., 0., 0.,  ..., 0., 0., 0.],\n",
       "          [0., 0., 0.,  ..., 0., 0., 0.],\n",
       "          [0., 0., 0.,  ..., 0., 0., 0.]],\n",
       "\n",
       "         [[0., 0., 0.,  ..., 0., 0., 0.],\n",
       "          [0., 0., 0.,  ..., 0., 0., 0.],\n",
       "          [0., 0., 0.,  ..., 0., 0., 0.],\n",
       "          ...,\n",
       "          [0., 0., 0.,  ..., 0., 0., 0.],\n",
       "          [0., 0., 0.,  ..., 0., 0., 0.],\n",
       "          [0., 0., 0.,  ..., 0., 0., 0.]],\n",
       "\n",
       "         [[0., 0., 0.,  ..., 0., 0., 0.],\n",
       "          [0., 0., 0.,  ..., 0., 0., 0.],\n",
       "          [0., 0., 0.,  ..., 0., 0., 0.],\n",
       "          ...,\n",
       "          [0., 0., 0.,  ..., 0., 0., 0.],\n",
       "          [0., 0., 0.,  ..., 0., 0., 0.],\n",
       "          [0., 0., 0.,  ..., 0., 0., 0.]]],\n",
       "\n",
       "\n",
       "        [[[1., 1., 1.,  ..., 1., 1., 1.],\n",
       "          [1., 1., 1.,  ..., 1., 1., 1.],\n",
       "          [1., 1., 1.,  ..., 1., 1., 1.],\n",
       "          ...,\n",
       "          [1., 1., 1.,  ..., 1., 1., 1.],\n",
       "          [1., 1., 1.,  ..., 1., 1., 1.],\n",
       "          [1., 1., 1.,  ..., 1., 1., 1.]],\n",
       "\n",
       "         [[0., 0., 0.,  ..., 0., 0., 0.],\n",
       "          [0., 0., 0.,  ..., 0., 0., 0.],\n",
       "          [0., 0., 0.,  ..., 0., 0., 0.],\n",
       "          ...,\n",
       "          [0., 0., 0.,  ..., 0., 0., 0.],\n",
       "          [0., 0., 0.,  ..., 0., 0., 0.],\n",
       "          [0., 0., 0.,  ..., 0., 0., 0.]],\n",
       "\n",
       "         [[0., 0., 0.,  ..., 0., 0., 0.],\n",
       "          [0., 0., 0.,  ..., 0., 0., 0.],\n",
       "          [0., 0., 0.,  ..., 0., 0., 0.],\n",
       "          ...,\n",
       "          [0., 0., 0.,  ..., 0., 0., 0.],\n",
       "          [0., 0., 0.,  ..., 0., 0., 0.],\n",
       "          [0., 0., 0.,  ..., 0., 0., 0.]],\n",
       "\n",
       "         [[0., 0., 0.,  ..., 0., 0., 0.],\n",
       "          [0., 0., 0.,  ..., 0., 0., 0.],\n",
       "          [0., 0., 0.,  ..., 0., 0., 0.],\n",
       "          ...,\n",
       "          [0., 0., 0.,  ..., 0., 0., 0.],\n",
       "          [0., 0., 0.,  ..., 0., 0., 0.],\n",
       "          [0., 0., 0.,  ..., 0., 0., 0.]]]])"
      ]
     },
     "execution_count": 32,
     "metadata": {},
     "output_type": "execute_result"
    }
   ],
   "source": [
    "X_cond"
   ]
  },
  {
   "cell_type": "code",
   "execution_count": 33,
   "metadata": {},
   "outputs": [
    {
     "data": {
      "text/plain": [
       "tensor([0., 1.])"
      ]
     },
     "execution_count": 33,
     "metadata": {},
     "output_type": "execute_result"
    }
   ],
   "source": [
    "torch.unique(X_cond)"
   ]
  },
  {
   "cell_type": "code",
   "execution_count": 34,
   "metadata": {
    "pycharm": {
     "name": "#%%\n"
    }
   },
   "outputs": [
    {
     "data": {
      "application/vnd.jupyter.widget-view+json": {
       "model_id": "0a47fc5a248c404abe3e0ec08595fac3",
       "version_major": 2,
       "version_minor": 0
      },
      "text/plain": [
       "sampling loop time step:   0%|          | 0/1000 [00:00<?, ?it/s]"
      ]
     },
     "metadata": {},
     "output_type": "display_data"
    },
    {
     "name": "stdout",
     "output_type": "stream",
     "text": [
      "z_gen.shape: torch.Size([9, 4, 32, 32])\n"
     ]
    }
   ],
   "source": [
    "# sample z\n",
    "trainer.ema.ema_model.eval()\n",
    "z_gen = trainer.ema.ema_model.sample(z_q_cond, batch_size=num_samples)\n",
    "\n",
    "print('z_gen.shape:', z_gen.shape)"
   ]
  },
  {
   "cell_type": "code",
   "execution_count": 35,
   "metadata": {
    "pycharm": {
     "name": "#%%\n"
    }
   },
   "outputs": [
    {
     "data": {
      "image/png": "[encoded data removed]",
      "text/plain": [
       "<Figure size 400x200 with 1 Axes>"
      ]
     },
     "metadata": {},
     "output_type": "display_data"
    }
   ],
   "source": [
    "# z histogram\n",
    "plt.figure(figsize=(4, 2))\n",
    "plt.hist(z_gen.cpu().detach().numpy().flatten(), bins=100, log=True)\n",
    "plt.show()"
   ]
  },
  {
   "cell_type": "code",
   "execution_count": 36,
   "metadata": {
    "pycharm": {
     "name": "#%%\n"
    }
   },
   "outputs": [
    {
     "name": "stdout",
     "output_type": "stream",
     "text": [
      "z_gen.shape: torch.Size([9, 64, 32, 32])\n",
      "x_gen.shape: torch.Size([9, 1, 128, 128])\n"
     ]
    }
   ],
   "source": [
    "# decode\n",
    "z_gen = rearrange(z_gen, 'b d h w -> b h w d')\n",
    "z_gen = trainer.pretrained_vq.project_out(z_gen)\n",
    "z_gen = rearrange(z_gen, 'b h w d -> b d h w')\n",
    "print('z_gen.shape:', z_gen.shape)\n",
    "\n",
    "x_gen = trainer.pretrained_decoder(z_gen)  # (b c h w)\n",
    "x_gen = x_gen.cpu().detach()\n",
    "x_gen = x_gen.argmax(dim=1)[:,None,:,:].float()\n",
    "print('x_gen.shape:', x_gen.shape)"
   ]
  },
  {
   "cell_type": "code",
   "execution_count": 37,
   "metadata": {},
   "outputs": [],
   "source": [
    "# plot\n",
    "save_image(X_cond.argmax(dim=1, keepdim=True), x_gen, 'results/.sample_jupyter_conditional.png')"
   ]
  },
  {
   "cell_type": "markdown",
   "metadata": {},
   "source": [
    "## Unconditional sampling"
   ]
  },
  {
   "cell_type": "code",
   "execution_count": 11,
   "metadata": {},
   "outputs": [],
   "source": [
    "num_samples = 9"
   ]
  },
  {
   "cell_type": "code",
   "execution_count": 12,
   "metadata": {
    "scrolled": true
   },
   "outputs": [
    {
     "data": {
      "application/vnd.jupyter.widget-view+json": {
       "model_id": "2abe5158a22746d6be03e06da286a003",
       "version_major": 2,
       "version_minor": 0
      },
      "text/plain": [
       "sampling loop time step:   0%|          | 0/1000 [00:00<?, ?it/s]"
      ]
     },
     "metadata": {},
     "output_type": "display_data"
    },
    {
     "name": "stdout",
     "output_type": "stream",
     "text": [
      "z_gen.shape: torch.Size([9, 4, 32, 32])\n"
     ]
    }
   ],
   "source": [
    "# sample z\n",
    "trainer.ema.ema_model.eval()\n",
    "z_gen = trainer.ema.ema_model.sample(z_q_cond=None, batch_size=num_samples)\n",
    "print('z_gen.shape:', z_gen.shape)"
   ]
  },
  {
   "cell_type": "code",
   "execution_count": 13,
   "metadata": {},
   "outputs": [
    {
     "name": "stdout",
     "output_type": "stream",
     "text": [
      "z_gen.shape: torch.Size([9, 64, 32, 32])\n",
      "x_gen.shape: torch.Size([9, 1, 128, 128])\n"
     ]
    }
   ],
   "source": [
    "# decode\n",
    "z_gen = rearrange(z_gen, 'b d h w -> b h w d')\n",
    "z_gen = trainer.pretrained_vq.project_out(z_gen)\n",
    "z_gen = rearrange(z_gen, 'b h w d -> b d h w')\n",
    "print('z_gen.shape:', z_gen.shape)\n",
    "\n",
    "x_gen = trainer.pretrained_decoder(z_gen)  # (b c h w)\n",
    "x_gen = x_gen.cpu().detach()\n",
    "x_gen = x_gen.argmax(dim=1)[:,None,:,:].float()\n",
    "print('x_gen.shape:', x_gen.shape)"
   ]
  },
  {
   "cell_type": "code",
   "execution_count": 14,
   "metadata": {},
   "outputs": [],
   "source": [
    "# plot\n",
    "save_image_unconditional(x_gen, 'results/.sample_jupyter_unconditional.png')"
   ]
  },
  {
   "cell_type": "markdown",
   "metadata": {},
   "source": [
    "## Transitional Visualization: `x_T` to `x_0`"
   ]
  },
  {
   "cell_type": "code",
   "execution_count": 15,
   "metadata": {},
   "outputs": [],
   "source": [
    "num_samples = 9"
   ]
  },
  {
   "cell_type": "code",
   "execution_count": 16,
   "metadata": {},
   "outputs": [
    {
     "data": {
      "application/vnd.jupyter.widget-view+json": {
       "model_id": "bd0b0e7c54874ccebe0f1eebf97afa7d",
       "version_major": 2,
       "version_minor": 0
      },
      "text/plain": [
       "sampling loop time step:   0%|          | 0/1000 [00:00<?, ?it/s]"
      ]
     },
     "metadata": {},
     "output_type": "display_data"
    },
    {
     "name": "stdout",
     "output_type": "stream",
     "text": [
      "z_gen.shape: torch.Size([9, 1001, 4, 32, 32])\n"
     ]
    }
   ],
   "source": [
    "# sample z\n",
    "trainer.ema.ema_model.eval()\n",
    "z_gen = trainer.ema.ema_model.sample(z_q_cond=z_q_cond, batch_size=num_samples, return_all_timesteps=True)\n",
    "print('z_gen.shape:', z_gen.shape)"
   ]
  },
  {
   "cell_type": "code",
   "execution_count": 17,
   "metadata": {
    "scrolled": true
   },
   "outputs": [
    {
     "name": "stdout",
     "output_type": "stream",
     "text": [
      "visualizing_steps: [   0  250  500  750 1000]\n"
     ]
    }
   ],
   "source": [
    "n_transitional_steps = 5\n",
    "visualizing_steps = np.linspace(0, z_gen.shape[1] - 1, n_transitional_steps).astype(int)\n",
    "print('visualizing_steps:', visualizing_steps)\n",
    "\n",
    "for step in visualizing_steps:\n",
    "    z_gen_ = z_gen[:, step]  # (b c h w)\n",
    "    \n",
    "    # decode\n",
    "    z_gen_ = rearrange(z_gen_, 'b d h w -> b h w d')\n",
    "    z_gen_ = trainer.pretrained_vq.project_out(z_gen_)\n",
    "    z_gen_ = rearrange(z_gen_, 'b h w d -> b d h w')\n",
    "\n",
    "    x_gen = trainer.pretrained_decoder(z_gen_)  # (b c h w)\n",
    "    x_gen = x_gen.cpu().detach()\n",
    "    x_gen = x_gen.argmax(dim=1)[:,None,:,:].float()  # (b 1 h w)\n",
    "    \n",
    "    save_image(X_cond.argmax(dim=1, keepdim=True), x_gen, f'results/.sample_jupyter_transitional_{step}.png')"
   ]
  },
  {
   "cell_type": "markdown",
   "metadata": {},
   "source": [
    "## Conditional sampling given specific `X_cond`"
   ]
  },
  {
   "cell_type": "code",
   "execution_count": 15,
   "metadata": {},
   "outputs": [],
   "source": [
    "dirname = 'dataset/X_cond'\n",
    "fnames = os.listdir(dirname)\n",
    "fnames = [fname for fname in fnames if '_dat' in fname]\n",
    "fnames = sorted(fnames)"
   ]
  },
  {
   "cell_type": "code",
   "execution_count": 16,
   "metadata": {
    "scrolled": true
   },
   "outputs": [
    {
     "data": {
      "text/plain": [
       "['facies1003_dat0.csv',\n",
       " 'facies1003_dat1.csv',\n",
       " 'facies1003_dat2.csv',\n",
       " 'facies1003_dat3.csv',\n",
       " 'facies1003_dat4.csv',\n",
       " 'facies1017_dat0.csv',\n",
       " 'facies1017_dat1.csv',\n",
       " 'facies1017_dat2.csv',\n",
       " 'facies1017_dat3.csv',\n",
       " 'facies1017_dat4.csv',\n",
       " 'facies1071_dat0.csv',\n",
       " 'facies1071_dat1.csv',\n",
       " 'facies1071_dat2.csv',\n",
       " 'facies1071_dat3.csv',\n",
       " 'facies1071_dat4.csv',\n",
       " 'facies1144_dat0.csv',\n",
       " 'facies1144_dat1.csv',\n",
       " 'facies1144_dat2.csv',\n",
       " 'facies1144_dat3.csv',\n",
       " 'facies1144_dat4.csv',\n",
       " 'facies1257_dat0.csv',\n",
       " 'facies1257_dat1.csv',\n",
       " 'facies1257_dat2.csv',\n",
       " 'facies1257_dat3.csv',\n",
       " 'facies1257_dat4.csv',\n",
       " 'facies1280_dat0.csv',\n",
       " 'facies1280_dat1.csv',\n",
       " 'facies1280_dat2.csv',\n",
       " 'facies1280_dat3.csv',\n",
       " 'facies1280_dat4.csv',\n",
       " 'facies1404_dat0.csv',\n",
       " 'facies1404_dat1.csv',\n",
       " 'facies1404_dat2.csv',\n",
       " 'facies1404_dat3.csv',\n",
       " 'facies1404_dat4.csv',\n",
       " 'facies1420_dat0.csv',\n",
       " 'facies1420_dat1.csv',\n",
       " 'facies1420_dat2.csv',\n",
       " 'facies1420_dat3.csv',\n",
       " 'facies1420_dat4.csv',\n",
       " 'facies1455_dat0.csv',\n",
       " 'facies1455_dat1.csv',\n",
       " 'facies1455_dat2.csv',\n",
       " 'facies1455_dat3.csv',\n",
       " 'facies1455_dat4.csv',\n",
       " 'facies1584_dat0.csv',\n",
       " 'facies1584_dat1.csv',\n",
       " 'facies1584_dat2.csv',\n",
       " 'facies1584_dat3.csv',\n",
       " 'facies1584_dat4.csv',\n",
       " 'facies165_dat0.csv',\n",
       " 'facies165_dat1.csv',\n",
       " 'facies165_dat2.csv',\n",
       " 'facies165_dat3.csv',\n",
       " 'facies165_dat4.csv',\n",
       " 'facies1679_dat0.csv',\n",
       " 'facies1679_dat1.csv',\n",
       " 'facies1679_dat2.csv',\n",
       " 'facies1679_dat3.csv',\n",
       " 'facies1679_dat4.csv',\n",
       " 'facies1721_dat0.csv',\n",
       " 'facies1721_dat1.csv',\n",
       " 'facies1721_dat2.csv',\n",
       " 'facies1721_dat3.csv',\n",
       " 'facies1721_dat4.csv',\n",
       " 'facies1764_dat0.csv',\n",
       " 'facies1764_dat1.csv',\n",
       " 'facies1764_dat2.csv',\n",
       " 'facies1764_dat3.csv',\n",
       " 'facies1764_dat4.csv',\n",
       " 'facies1843_dat0.csv',\n",
       " 'facies1843_dat1.csv',\n",
       " 'facies1843_dat2.csv',\n",
       " 'facies1843_dat3.csv',\n",
       " 'facies1843_dat4.csv',\n",
       " 'facies1879_dat0.csv',\n",
       " 'facies1879_dat1.csv',\n",
       " 'facies1879_dat2.csv',\n",
       " 'facies1879_dat3.csv',\n",
       " 'facies1879_dat4.csv',\n",
       " 'facies1967_dat0.csv',\n",
       " 'facies1967_dat1.csv',\n",
       " 'facies1967_dat2.csv',\n",
       " 'facies1967_dat3.csv',\n",
       " 'facies1967_dat4.csv',\n",
       " 'facies1969_dat0.csv',\n",
       " 'facies1969_dat1.csv',\n",
       " 'facies1969_dat2.csv',\n",
       " 'facies1969_dat3.csv',\n",
       " 'facies1969_dat4.csv',\n",
       " 'facies1999_dat0.csv',\n",
       " 'facies1999_dat1.csv',\n",
       " 'facies1999_dat2.csv',\n",
       " 'facies1999_dat3.csv',\n",
       " 'facies1999_dat4.csv',\n",
       " 'facies1_dat0.csv',\n",
       " 'facies1_dat1.csv',\n",
       " 'facies1_dat2.csv',\n",
       " 'facies1_dat3.csv',\n",
       " 'facies1_dat4.csv',\n",
       " 'facies2036_dat0.csv',\n",
       " 'facies2036_dat1.csv',\n",
       " 'facies2036_dat2.csv',\n",
       " 'facies2036_dat3.csv',\n",
       " 'facies2036_dat4.csv',\n",
       " 'facies2068_dat0.csv',\n",
       " 'facies2068_dat1.csv',\n",
       " 'facies2068_dat2.csv',\n",
       " 'facies2068_dat3.csv',\n",
       " 'facies2068_dat4.csv',\n",
       " 'facies2140_dat0.csv',\n",
       " 'facies2140_dat1.csv',\n",
       " 'facies2140_dat2.csv',\n",
       " 'facies2140_dat3.csv',\n",
       " 'facies2140_dat4.csv',\n",
       " 'facies228_dat0.csv',\n",
       " 'facies228_dat1.csv',\n",
       " 'facies228_dat2.csv',\n",
       " 'facies228_dat3.csv',\n",
       " 'facies228_dat4.csv',\n",
       " 'facies2294_dat0.csv',\n",
       " 'facies2294_dat1.csv',\n",
       " 'facies2294_dat2.csv',\n",
       " 'facies2294_dat3.csv',\n",
       " 'facies2294_dat4.csv',\n",
       " 'facies2311_dat0.csv',\n",
       " 'facies2311_dat1.csv',\n",
       " 'facies2311_dat2.csv',\n",
       " 'facies2311_dat3.csv',\n",
       " 'facies2311_dat4.csv',\n",
       " 'facies2339_dat0.csv',\n",
       " 'facies2339_dat1.csv',\n",
       " 'facies2339_dat2.csv',\n",
       " 'facies2339_dat3.csv',\n",
       " 'facies2339_dat4.csv',\n",
       " 'facies2355_dat0.csv',\n",
       " 'facies2355_dat1.csv',\n",
       " 'facies2355_dat2.csv',\n",
       " 'facies2355_dat3.csv',\n",
       " 'facies2355_dat4.csv',\n",
       " 'facies2417_dat0.csv',\n",
       " 'facies2417_dat1.csv',\n",
       " 'facies2417_dat2.csv',\n",
       " 'facies2417_dat3.csv',\n",
       " 'facies2417_dat4.csv',\n",
       " 'facies2492_dat0.csv',\n",
       " 'facies2492_dat1.csv',\n",
       " 'facies2492_dat2.csv',\n",
       " 'facies2492_dat3.csv',\n",
       " 'facies2492_dat4.csv',\n",
       " 'facies2512_dat0.csv',\n",
       " 'facies2512_dat1.csv',\n",
       " 'facies2512_dat2.csv',\n",
       " 'facies2512_dat3.csv',\n",
       " 'facies2512_dat4.csv',\n",
       " 'facies2672_dat0.csv',\n",
       " 'facies2672_dat1.csv',\n",
       " 'facies2672_dat2.csv',\n",
       " 'facies2672_dat3.csv',\n",
       " 'facies2672_dat4.csv',\n",
       " 'facies2783_dat0.csv',\n",
       " 'facies2783_dat1.csv',\n",
       " 'facies2783_dat2.csv',\n",
       " 'facies2783_dat3.csv',\n",
       " 'facies2783_dat4.csv',\n",
       " 'facies2785_dat0.csv',\n",
       " 'facies2785_dat1.csv',\n",
       " 'facies2785_dat2.csv',\n",
       " 'facies2785_dat3.csv',\n",
       " 'facies2785_dat4.csv',\n",
       " 'facies2802_dat0.csv',\n",
       " 'facies2802_dat1.csv',\n",
       " 'facies2802_dat2.csv',\n",
       " 'facies2802_dat3.csv',\n",
       " 'facies2802_dat4.csv',\n",
       " 'facies2816_dat0.csv',\n",
       " 'facies2816_dat1.csv',\n",
       " 'facies2816_dat2.csv',\n",
       " 'facies2816_dat3.csv',\n",
       " 'facies2816_dat4.csv',\n",
       " 'facies2872_dat0.csv',\n",
       " 'facies2872_dat1.csv',\n",
       " 'facies2872_dat2.csv',\n",
       " 'facies2872_dat3.csv',\n",
       " 'facies2872_dat4.csv',\n",
       " 'facies2915_dat0.csv',\n",
       " 'facies2915_dat1.csv',\n",
       " 'facies2915_dat2.csv',\n",
       " 'facies2915_dat3.csv',\n",
       " 'facies2915_dat4.csv',\n",
       " 'facies3024_dat0.csv',\n",
       " 'facies3024_dat1.csv',\n",
       " 'facies3024_dat2.csv',\n",
       " 'facies3024_dat3.csv',\n",
       " 'facies3024_dat4.csv',\n",
       " 'facies3062_dat0.csv',\n",
       " 'facies3062_dat1.csv',\n",
       " 'facies3062_dat2.csv',\n",
       " 'facies3062_dat3.csv',\n",
       " 'facies3062_dat4.csv',\n",
       " 'facies3130_dat0.csv',\n",
       " 'facies3130_dat1.csv',\n",
       " 'facies3130_dat2.csv',\n",
       " 'facies3130_dat3.csv',\n",
       " 'facies3130_dat4.csv',\n",
       " 'facies3174_dat0.csv',\n",
       " 'facies3174_dat1.csv',\n",
       " 'facies3174_dat2.csv',\n",
       " 'facies3174_dat3.csv',\n",
       " 'facies3174_dat4.csv',\n",
       " 'facies3210_dat0.csv',\n",
       " 'facies3210_dat1.csv',\n",
       " 'facies3210_dat2.csv',\n",
       " 'facies3210_dat3.csv',\n",
       " 'facies3210_dat4.csv',\n",
       " 'facies3241_dat0.csv',\n",
       " 'facies3241_dat1.csv',\n",
       " 'facies3241_dat2.csv',\n",
       " 'facies3241_dat3.csv',\n",
       " 'facies3241_dat4.csv',\n",
       " 'facies3265_dat0.csv',\n",
       " 'facies3265_dat1.csv',\n",
       " 'facies3265_dat2.csv',\n",
       " 'facies3265_dat3.csv',\n",
       " 'facies3265_dat4.csv',\n",
       " 'facies3316_dat0.csv',\n",
       " 'facies3316_dat1.csv',\n",
       " 'facies3316_dat2.csv',\n",
       " 'facies3316_dat3.csv',\n",
       " 'facies3316_dat4.csv',\n",
       " 'facies3352_dat0.csv',\n",
       " 'facies3352_dat1.csv',\n",
       " 'facies3352_dat2.csv',\n",
       " 'facies3352_dat3.csv',\n",
       " 'facies3352_dat4.csv',\n",
       " 'facies3375_dat0.csv',\n",
       " 'facies3375_dat1.csv',\n",
       " 'facies3375_dat2.csv',\n",
       " 'facies3375_dat3.csv',\n",
       " 'facies3375_dat4.csv',\n",
       " 'facies3379_dat0.csv',\n",
       " 'facies3379_dat1.csv',\n",
       " 'facies3379_dat2.csv',\n",
       " 'facies3379_dat3.csv',\n",
       " 'facies3379_dat4.csv',\n",
       " 'facies339_dat0.csv',\n",
       " 'facies339_dat1.csv',\n",
       " 'facies339_dat2.csv',\n",
       " 'facies339_dat3.csv',\n",
       " 'facies339_dat4.csv',\n",
       " 'facies3430_dat0.csv',\n",
       " 'facies3430_dat1.csv',\n",
       " 'facies3430_dat2.csv',\n",
       " 'facies3430_dat3.csv',\n",
       " 'facies3430_dat4.csv',\n",
       " 'facies3433_dat0.csv',\n",
       " 'facies3433_dat1.csv',\n",
       " 'facies3433_dat2.csv',\n",
       " 'facies3433_dat3.csv',\n",
       " 'facies3433_dat4.csv',\n",
       " 'facies3440_dat0.csv',\n",
       " 'facies3440_dat1.csv',\n",
       " 'facies3440_dat2.csv',\n",
       " 'facies3440_dat3.csv',\n",
       " 'facies3440_dat4.csv',\n",
       " 'facies3460_dat0.csv',\n",
       " 'facies3460_dat1.csv',\n",
       " 'facies3460_dat2.csv',\n",
       " 'facies3460_dat3.csv',\n",
       " 'facies3460_dat4.csv',\n",
       " 'facies348_dat0.csv',\n",
       " 'facies348_dat1.csv',\n",
       " 'facies348_dat2.csv',\n",
       " 'facies348_dat3.csv',\n",
       " 'facies348_dat4.csv',\n",
       " 'facies3492_dat0.csv',\n",
       " 'facies3492_dat1.csv',\n",
       " 'facies3492_dat2.csv',\n",
       " 'facies3492_dat3.csv',\n",
       " 'facies3492_dat4.csv',\n",
       " 'facies3496_dat0.csv',\n",
       " 'facies3496_dat1.csv',\n",
       " 'facies3496_dat2.csv',\n",
       " 'facies3496_dat3.csv',\n",
       " 'facies3496_dat4.csv',\n",
       " 'facies3498_dat0.csv',\n",
       " 'facies3498_dat1.csv',\n",
       " 'facies3498_dat2.csv',\n",
       " 'facies3498_dat3.csv',\n",
       " 'facies3498_dat4.csv',\n",
       " 'facies3508_dat0.csv',\n",
       " 'facies3508_dat1.csv',\n",
       " 'facies3508_dat2.csv',\n",
       " 'facies3508_dat3.csv',\n",
       " 'facies3508_dat4.csv',\n",
       " 'facies3510_dat0.csv',\n",
       " 'facies3510_dat1.csv',\n",
       " 'facies3510_dat2.csv',\n",
       " 'facies3510_dat3.csv',\n",
       " 'facies3510_dat4.csv',\n",
       " 'facies3530_dat0.csv',\n",
       " 'facies3530_dat1.csv',\n",
       " 'facies3530_dat2.csv',\n",
       " 'facies3530_dat3.csv',\n",
       " 'facies3530_dat4.csv',\n",
       " 'facies3651_dat0.csv',\n",
       " 'facies3651_dat1.csv',\n",
       " 'facies3651_dat2.csv',\n",
       " 'facies3651_dat3.csv',\n",
       " 'facies3651_dat4.csv',\n",
       " 'facies3674_dat0.csv',\n",
       " 'facies3674_dat1.csv',\n",
       " 'facies3674_dat2.csv',\n",
       " 'facies3674_dat3.csv',\n",
       " 'facies3674_dat4.csv',\n",
       " 'facies3740_dat0.csv',\n",
       " 'facies3740_dat1.csv',\n",
       " 'facies3740_dat2.csv',\n",
       " 'facies3740_dat3.csv',\n",
       " 'facies3740_dat4.csv',\n",
       " 'facies3741_dat0.csv',\n",
       " 'facies3741_dat1.csv',\n",
       " 'facies3741_dat2.csv',\n",
       " 'facies3741_dat3.csv',\n",
       " 'facies3741_dat4.csv',\n",
       " 'facies3767_dat0.csv',\n",
       " 'facies3767_dat1.csv',\n",
       " 'facies3767_dat2.csv',\n",
       " 'facies3767_dat3.csv',\n",
       " 'facies3767_dat4.csv',\n",
       " 'facies3832_dat0.csv',\n",
       " 'facies3832_dat1.csv',\n",
       " 'facies3832_dat2.csv',\n",
       " 'facies3832_dat3.csv',\n",
       " 'facies3832_dat4.csv',\n",
       " 'facies3917_dat0.csv',\n",
       " 'facies3917_dat1.csv',\n",
       " 'facies3917_dat2.csv',\n",
       " 'facies3917_dat3.csv',\n",
       " 'facies3917_dat4.csv',\n",
       " 'facies4006_dat0.csv',\n",
       " 'facies4006_dat1.csv',\n",
       " 'facies4006_dat2.csv',\n",
       " 'facies4006_dat3.csv',\n",
       " 'facies4006_dat4.csv',\n",
       " 'facies4056_dat0.csv',\n",
       " 'facies4056_dat1.csv',\n",
       " 'facies4056_dat2.csv',\n",
       " 'facies4056_dat3.csv',\n",
       " 'facies4056_dat4.csv',\n",
       " 'facies4073_dat0.csv',\n",
       " 'facies4073_dat1.csv',\n",
       " 'facies4073_dat2.csv',\n",
       " 'facies4073_dat3.csv',\n",
       " 'facies4073_dat4.csv',\n",
       " 'facies4096_dat0.csv',\n",
       " 'facies4096_dat1.csv',\n",
       " 'facies4096_dat2.csv',\n",
       " 'facies4096_dat3.csv',\n",
       " 'facies4096_dat4.csv',\n",
       " 'facies4103_dat0.csv',\n",
       " 'facies4103_dat1.csv',\n",
       " 'facies4103_dat2.csv',\n",
       " 'facies4103_dat3.csv',\n",
       " 'facies4103_dat4.csv',\n",
       " 'facies4121_dat0.csv',\n",
       " 'facies4121_dat1.csv',\n",
       " 'facies4121_dat2.csv',\n",
       " 'facies4121_dat3.csv',\n",
       " 'facies4121_dat4.csv',\n",
       " 'facies4154_dat0.csv',\n",
       " 'facies4154_dat1.csv',\n",
       " 'facies4154_dat2.csv',\n",
       " 'facies4154_dat3.csv',\n",
       " 'facies4154_dat4.csv',\n",
       " 'facies4171_dat0.csv',\n",
       " 'facies4171_dat1.csv',\n",
       " 'facies4171_dat2.csv',\n",
       " 'facies4171_dat3.csv',\n",
       " 'facies4171_dat4.csv',\n",
       " 'facies4187_dat0.csv',\n",
       " 'facies4187_dat1.csv',\n",
       " 'facies4187_dat2.csv',\n",
       " 'facies4187_dat3.csv',\n",
       " 'facies4187_dat4.csv',\n",
       " 'facies4190_dat0.csv',\n",
       " 'facies4190_dat1.csv',\n",
       " 'facies4190_dat2.csv',\n",
       " 'facies4190_dat3.csv',\n",
       " 'facies4190_dat4.csv',\n",
       " 'facies4211_dat0.csv',\n",
       " 'facies4211_dat1.csv',\n",
       " 'facies4211_dat2.csv',\n",
       " 'facies4211_dat3.csv',\n",
       " 'facies4211_dat4.csv',\n",
       " 'facies4295_dat0.csv',\n",
       " 'facies4295_dat1.csv',\n",
       " 'facies4295_dat2.csv',\n",
       " 'facies4295_dat3.csv',\n",
       " 'facies4295_dat4.csv',\n",
       " 'facies4342_dat0.csv',\n",
       " 'facies4342_dat1.csv',\n",
       " 'facies4342_dat2.csv',\n",
       " 'facies4342_dat3.csv',\n",
       " 'facies4342_dat4.csv',\n",
       " 'facies4364_dat0.csv',\n",
       " 'facies4364_dat1.csv',\n",
       " 'facies4364_dat2.csv',\n",
       " 'facies4364_dat3.csv',\n",
       " 'facies4364_dat4.csv',\n",
       " 'facies438_dat0.csv',\n",
       " 'facies438_dat1.csv',\n",
       " 'facies438_dat2.csv',\n",
       " 'facies438_dat3.csv',\n",
       " 'facies438_dat4.csv',\n",
       " 'facies4425_dat0.csv',\n",
       " 'facies4425_dat1.csv',\n",
       " 'facies4425_dat2.csv',\n",
       " 'facies4425_dat3.csv',\n",
       " 'facies4425_dat4.csv',\n",
       " 'facies447_dat0.csv',\n",
       " 'facies447_dat1.csv',\n",
       " 'facies447_dat2.csv',\n",
       " 'facies447_dat3.csv',\n",
       " 'facies447_dat4.csv',\n",
       " 'facies4487_dat0.csv',\n",
       " 'facies4487_dat1.csv',\n",
       " 'facies4487_dat2.csv',\n",
       " 'facies4487_dat3.csv',\n",
       " 'facies4487_dat4.csv',\n",
       " 'facies454_dat0.csv',\n",
       " 'facies454_dat1.csv',\n",
       " 'facies454_dat2.csv',\n",
       " 'facies454_dat3.csv',\n",
       " 'facies454_dat4.csv',\n",
       " 'facies4567_dat0.csv',\n",
       " 'facies4567_dat1.csv',\n",
       " 'facies4567_dat2.csv',\n",
       " 'facies4567_dat3.csv',\n",
       " 'facies4567_dat4.csv',\n",
       " 'facies4574_dat0.csv',\n",
       " 'facies4574_dat1.csv',\n",
       " 'facies4574_dat2.csv',\n",
       " 'facies4574_dat3.csv',\n",
       " 'facies4574_dat4.csv',\n",
       " 'facies4736_dat0.csv',\n",
       " 'facies4736_dat1.csv',\n",
       " 'facies4736_dat2.csv',\n",
       " 'facies4736_dat3.csv',\n",
       " 'facies4736_dat4.csv',\n",
       " 'facies4843_dat0.csv',\n",
       " 'facies4843_dat1.csv',\n",
       " 'facies4843_dat2.csv',\n",
       " 'facies4843_dat3.csv',\n",
       " 'facies4843_dat4.csv',\n",
       " 'facies4890_dat0.csv',\n",
       " 'facies4890_dat1.csv',\n",
       " 'facies4890_dat2.csv',\n",
       " 'facies4890_dat3.csv',\n",
       " 'facies4890_dat4.csv',\n",
       " 'facies4_dat0.csv',\n",
       " 'facies4_dat1.csv',\n",
       " 'facies4_dat2.csv',\n",
       " 'facies4_dat3.csv',\n",
       " 'facies4_dat4.csv',\n",
       " 'facies566_dat0.csv',\n",
       " 'facies566_dat1.csv',\n",
       " 'facies566_dat2.csv',\n",
       " 'facies566_dat3.csv',\n",
       " 'facies566_dat4.csv',\n",
       " 'facies606_dat0.csv',\n",
       " 'facies606_dat1.csv',\n",
       " 'facies606_dat2.csv',\n",
       " 'facies606_dat3.csv',\n",
       " 'facies606_dat4.csv',\n",
       " 'facies653_dat0.csv',\n",
       " 'facies653_dat1.csv',\n",
       " 'facies653_dat2.csv',\n",
       " 'facies653_dat3.csv',\n",
       " 'facies653_dat4.csv',\n",
       " 'facies67_dat0.csv',\n",
       " 'facies67_dat1.csv',\n",
       " 'facies67_dat2.csv',\n",
       " 'facies67_dat3.csv',\n",
       " 'facies67_dat4.csv',\n",
       " 'facies694_dat0.csv',\n",
       " 'facies694_dat1.csv',\n",
       " 'facies694_dat2.csv',\n",
       " 'facies694_dat3.csv',\n",
       " 'facies694_dat4.csv',\n",
       " 'facies786_dat0.csv',\n",
       " 'facies786_dat1.csv',\n",
       " 'facies786_dat2.csv',\n",
       " 'facies786_dat3.csv',\n",
       " 'facies786_dat4.csv',\n",
       " 'facies945_dat0.csv',\n",
       " 'facies945_dat1.csv',\n",
       " 'facies945_dat2.csv',\n",
       " 'facies945_dat3.csv',\n",
       " 'facies945_dat4.csv']"
      ]
     },
     "execution_count": 16,
     "metadata": {},
     "output_type": "execute_result"
    }
   ],
   "source": [
    "fnames"
   ]
  },
  {
   "cell_type": "code",
   "execution_count": 55,
   "metadata": {},
   "outputs": [
    {
     "name": "stdout",
     "output_type": "stream",
     "text": [
      "fname: facies4890_dat3.csv\n"
     ]
    },
    {
     "name": "stderr",
     "output_type": "stream",
     "text": [
      "C:\\Users\\dslee\\anaconda3\\envs\\geo_diffusion\\lib\\site-packages\\ipykernel_launcher.py:13: DeprecationWarning: `np.float` is a deprecated alias for the builtin `float`. To silence this warning, use `float` by itself. Doing this will not modify any behavior and is safe. If you specifically wanted the numpy scalar type, use `np.float64` here.\n",
      "Deprecated in NumPy 1.20; for more details and guidance: https://numpy.org/devdocs/release/1.20.0-notes.html#deprecations\n",
      "  del sys.path[0]\n"
     ]
    },
    {
     "data": {
      "image/png": "[encoded data removed]",
      "text/plain": [
       "<Figure size 1000x500 with 3 Axes>"
      ]
     },
     "metadata": {},
     "output_type": "display_data"
    },
    {
     "data": {
      "application/vnd.jupyter.widget-view+json": {
       "model_id": "2d0b38be63a2474bbf420eb6547c28a7",
       "version_major": 2,
       "version_minor": 0
      },
      "text/plain": [
       "sampling loop time step:   0%|          | 0/1000 [00:00<?, ?it/s]"
      ]
     },
     "metadata": {},
     "output_type": "display_data"
    }
   ],
   "source": [
    "fname = 'facies4890_dat3.csv'  #fnames[4]\n",
    "print('fname:', fname)\n",
    "x_cond = pd.read_csv(os.path.join(dirname, fname), header=None).values \n",
    "\n",
    "# remove the index\n",
    "x_cond = x_cond[1:, 1:]  # (h w)\n",
    "\n",
    "# create n channels for n categories\n",
    "h, w = x_cond.shape\n",
    "unique_categories = np.array([-1, 0, 1, 2])  #np.unique(x_cond)\n",
    "x_new = np.zeros((len(unique_categories), h, w))  # (c h w)\n",
    "for j, c in enumerate(unique_categories):\n",
    "    x_new[j] = np.array(x_cond == c, dtype=np.float)\n",
    "x_cond = x_new  # (c h w)\n",
    "\n",
    "# flip\n",
    "x_cond = np.flip(x_cond, axis=1)\n",
    "\n",
    "# plot\n",
    "fig, axes = plt.subplots(1, 2, figsize=(10, 5))\n",
    "im = axes[0].imshow(x_cond.argmax(axis=0), interpolation='nearest', vmin=0, vmax=3)\n",
    "plt.colorbar(im, ax=axes[0])\n",
    "axes[0].invert_yaxis()\n",
    "plt.show()\n",
    "\n",
    "# x_cond\n",
    "n_samples = 9\n",
    "x_cond = einops.repeat(x_cond, 'c h w -> b c h w', b=n_samples)  # (b c h w)\n",
    "\n",
    "# z_q_cond\n",
    "x_cond = torch.from_numpy(np.array(x_cond)).float()  # (b c h w); b == num_samples\n",
    "z_cond = trainer.pretrained_encoder_cond(x_cond.to(trainer.accelerator.device))  # (b c h' w')\n",
    "z_q_cond, _, _, _ = quantize(z_cond, trainer.pretrained_vq_cond, return_z_q_before_proj_out=True)\n",
    "\n",
    "# sample z\n",
    "trainer.ema.ema_model.eval()\n",
    "z_gen = trainer.ema.ema_model.sample(z_q_cond, batch_size=n_samples)"
   ]
  },
  {
   "cell_type": "code",
   "execution_count": 56,
   "metadata": {},
   "outputs": [
    {
     "name": "stdout",
     "output_type": "stream",
     "text": [
      "z_gen.shape: torch.Size([9, 64, 32, 32])\n",
      "x_gen.shape: torch.Size([9, 1, 128, 128])\n"
     ]
    }
   ],
   "source": [
    "# decode\n",
    "z_gen = rearrange(z_gen, 'b d h w -> b h w d')\n",
    "z_gen = trainer.pretrained_vq.project_out(z_gen)\n",
    "z_gen = rearrange(z_gen, 'b h w d -> b d h w')\n",
    "print('z_gen.shape:', z_gen.shape)\n",
    "\n",
    "x_gen = trainer.pretrained_decoder(z_gen)  # (b c h w)\n",
    "x_gen = x_gen.cpu().detach()\n",
    "x_gen = x_gen.argmax(dim=1)[:,None,:,:].float()\n",
    "print('x_gen.shape:', x_gen.shape)\n",
    "\n",
    "torch.cuda.empty_cache()"
   ]
  },
  {
   "cell_type": "code",
   "execution_count": 57,
   "metadata": {},
   "outputs": [
    {
     "name": "stdout",
     "output_type": "stream",
     "text": [
      "fname: results/.c_facies4890_dat3.png\n"
     ]
    }
   ],
   "source": [
    "# plot\n",
    "from denoising_diffusion_pytorch.denoising_diffusion_pytorch import save_image\n",
    "print('fname:', 'results/.c_{}.png'.format(fname.split('.csv')[0]))\n",
    "save_image(x_cond.argmax(dim=1, keepdim=True), x_gen, 'results/.c_{}.png'.format(fname.split('.csv')[0]))"
   ]
  },
  {
   "cell_type": "code",
   "execution_count": 58,
   "metadata": {},
   "outputs": [
    {
     "name": "stdout",
     "output_type": "stream",
     "text": [
      "fname_gt: facies4890.csv\n"
     ]
    },
    {
     "name": "stderr",
     "output_type": "stream",
     "text": [
      "C:\\Users\\dslee\\anaconda3\\envs\\geo_diffusion\\lib\\site-packages\\ipykernel_launcher.py:15: DeprecationWarning: `np.float` is a deprecated alias for the builtin `float`. To silence this warning, use `float` by itself. Doing this will not modify any behavior and is safe. If you specifically wanted the numpy scalar type, use `np.float64` here.\n",
      "Deprecated in NumPy 1.20; for more details and guidance: https://numpy.org/devdocs/release/1.20.0-notes.html#deprecations\n",
      "  from ipykernel import kernelapp as app\n"
     ]
    },
    {
     "data": {
      "image/png": "[encoded data removed]",
      "text/plain": [
       "<Figure size 500x500 with 1 Axes>"
      ]
     },
     "metadata": {},
     "output_type": "display_data"
    }
   ],
   "source": [
    "# plot the ground truth\n",
    "\n",
    "fname_gt = fname.split('_dat')[0] + '.csv'\n",
    "print('fname_gt:', fname_gt)\n",
    "x_cond = pd.read_csv(os.path.join(dirname, fname_gt), header=None).values \n",
    "\n",
    "# remove the index\n",
    "x_cond = x_cond[1:, 1:]  # (h w)\n",
    "\n",
    "# create n channels for n categories\n",
    "h, w = x_cond.shape\n",
    "unique_categories = np.array([-1, 0, 1, 2])  #np.unique(x_cond)\n",
    "x_new = np.zeros((len(unique_categories), h, w))  # (c h w)\n",
    "for j, c in enumerate(unique_categories):\n",
    "    x_new[j] = np.array(x_cond == c, dtype=np.float)\n",
    "x_cond = x_new  # (c h w)\n",
    "\n",
    "# flip\n",
    "x_cond = np.flip(x_cond, axis=1)\n",
    "\n",
    "# plot\n",
    "fig, ax = plt.subplots(1, 1, figsize=(5, 5))\n",
    "im = ax.imshow(x_cond.argmax(axis=0), interpolation='nearest', vmin=0, vmax=3)\n",
    "# plt.colorbar(im, ax=ax)\n",
    "# axes[0].invert_yaxis()\n",
    "plt.xticks([])\n",
    "plt.yticks([])\n",
    "plt.show()"
   ]
  },
  {
   "cell_type": "code",
   "execution_count": null,
   "metadata": {},
   "outputs": [],
   "source": []
  },
  {
   "cell_type": "code",
   "execution_count": null,
   "metadata": {},
   "outputs": [],
   "source": []
  },
  {
   "cell_type": "code",
   "execution_count": null,
   "metadata": {},
   "outputs": [],
   "source": []
  },
  {
   "cell_type": "code",
   "execution_count": null,
   "metadata": {},
   "outputs": [],
   "source": []
  },
  {
   "cell_type": "code",
   "execution_count": null,
   "metadata": {},
   "outputs": [],
   "source": []
  },
  {
   "cell_type": "code",
   "execution_count": null,
   "metadata": {},
   "outputs": [],
   "source": []
  },
  {
   "cell_type": "code",
   "execution_count": null,
   "metadata": {},
   "outputs": [],
   "source": []
  },
  {
   "cell_type": "code",
   "execution_count": null,
   "metadata": {},
   "outputs": [],
   "source": []
  },
  {
   "cell_type": "markdown",
   "metadata": {},
   "source": [
    "## Bulk unconditonal sampling "
   ]
  },
  {
   "cell_type": "code",
   "execution_count": 5,
   "metadata": {},
   "outputs": [],
   "source": [
    "import pandas as pd"
   ]
  },
  {
   "cell_type": "code",
   "execution_count": 14,
   "metadata": {
    "pycharm": {
     "name": "#%%\n"
    },
    "scrolled": true
   },
   "outputs": [
    {
     "data": {
      "application/vnd.jupyter.widget-view+json": {
       "model_id": "d9e9867f34ac4e8dbf9b3cb55d7210f6",
       "version_major": 2,
       "version_minor": 0
      },
      "text/plain": [
       "sampling loop time step:   0%|          | 0/1000 [00:00<?, ?it/s]"
      ]
     },
     "metadata": {},
     "output_type": "display_data"
    },
    {
     "name": "stdout",
     "output_type": "stream",
     "text": [
      "z_gen.shape: torch.Size([200, 64, 32, 32])\n",
      "x_gen.shape: torch.Size([200, 1, 128, 128])\n"
     ]
    },
    {
     "data": {
      "application/vnd.jupyter.widget-view+json": {
       "model_id": "5babeb05c92549b2b180d7482648e8fa",
       "version_major": 2,
       "version_minor": 0
      },
      "text/plain": [
       "sampling loop time step:   0%|          | 0/1000 [00:00<?, ?it/s]"
      ]
     },
     "metadata": {},
     "output_type": "display_data"
    },
    {
     "name": "stdout",
     "output_type": "stream",
     "text": [
      "z_gen.shape: torch.Size([200, 64, 32, 32])\n",
      "x_gen.shape: torch.Size([200, 1, 128, 128])\n"
     ]
    },
    {
     "data": {
      "application/vnd.jupyter.widget-view+json": {
       "model_id": "a9c56ec869c0466982117e0472a6270d",
       "version_major": 2,
       "version_minor": 0
      },
      "text/plain": [
       "sampling loop time step:   0%|          | 0/1000 [00:00<?, ?it/s]"
      ]
     },
     "metadata": {},
     "output_type": "display_data"
    },
    {
     "name": "stdout",
     "output_type": "stream",
     "text": [
      "z_gen.shape: torch.Size([200, 64, 32, 32])\n",
      "x_gen.shape: torch.Size([200, 1, 128, 128])\n"
     ]
    },
    {
     "data": {
      "application/vnd.jupyter.widget-view+json": {
       "model_id": "e6c9ccbd93fc487d81ae1b56820a9626",
       "version_major": 2,
       "version_minor": 0
      },
      "text/plain": [
       "sampling loop time step:   0%|          | 0/1000 [00:00<?, ?it/s]"
      ]
     },
     "metadata": {},
     "output_type": "display_data"
    },
    {
     "name": "stdout",
     "output_type": "stream",
     "text": [
      "z_gen.shape: torch.Size([200, 64, 32, 32])\n",
      "x_gen.shape: torch.Size([200, 1, 128, 128])\n"
     ]
    },
    {
     "data": {
      "application/vnd.jupyter.widget-view+json": {
       "model_id": "69cf360b089f41b8a7556c628d387e94",
       "version_major": 2,
       "version_minor": 0
      },
      "text/plain": [
       "sampling loop time step:   0%|          | 0/1000 [00:00<?, ?it/s]"
      ]
     },
     "metadata": {},
     "output_type": "display_data"
    },
    {
     "name": "stdout",
     "output_type": "stream",
     "text": [
      "z_gen.shape: torch.Size([200, 64, 32, 32])\n",
      "x_gen.shape: torch.Size([200, 1, 128, 128])\n"
     ]
    }
   ],
   "source": [
    "# sample many and save\n",
    "\n",
    "n_samples = 5000\n",
    "batch_size = 200\n",
    "\n",
    "n_iters = np.ceil(n_samples / 256).astype(int)\n",
    "# for i in range(n_iters):\n",
    "for i in [20, 21, 22, 23, 24]:\n",
    "    # sample z\n",
    "    trainer.ema.ema_model.eval()\n",
    "    z_gen = trainer.ema.ema_model.sample(batch_size=batch_size)\n",
    "\n",
    "    # sample x_gen\n",
    "    z_gen = rearrange(z_gen, 'b d h w -> b h w d')\n",
    "    z_gen = trainer.pretrained_vq.project_out(z_gen)\n",
    "    z_gen = rearrange(z_gen, 'b h w d -> b d h w')\n",
    "    print('z_gen.shape:', z_gen.shape)\n",
    "\n",
    "    x_gen = trainer.pretrained_decoder(z_gen)  # (b c h w)\n",
    "    x_gen = x_gen.cpu().detach()\n",
    "    x_gen = x_gen.argmax(dim=1)[:,None,:,:].float()\n",
    "    print('x_gen.shape:', x_gen.shape)\n",
    "\n",
    "    # save\n",
    "    with open(f'X_gen_20230317_{i}.npy', 'wb') as f:\n",
    "        np.save(f, x_gen[:, 0, : ,:])\n",
    "    \n",
    "    # empty cuda memory\n",
    "    torch.cuda.empty_cache()"
   ]
  },
  {
   "cell_type": "code",
   "execution_count": 11,
   "metadata": {},
   "outputs": [],
   "source": [
    "del x_gen"
   ]
  },
  {
   "cell_type": "code",
   "execution_count": 12,
   "metadata": {
    "pycharm": {
     "name": "#%%\n"
    }
   },
   "outputs": [],
   "source": [
    "torch.cuda.empty_cache()"
   ]
  }
 ],
 "metadata": {
  "kernelspec": {
   "display_name": "geo_diffusion",
   "language": "python",
   "name": "geo_diffusion"
  },
  "language_info": {
   "codemirror_mode": {
    "name": "ipython",
    "version": 3
   },
   "file_extension": ".py",
   "mimetype": "text/x-python",
   "name": "python",
   "nbconvert_exporter": "python",
   "pygments_lexer": "ipython3",
   "version": "3.7.13"
  }
 },
 "nbformat": 4,
 "nbformat_minor": 1
}
